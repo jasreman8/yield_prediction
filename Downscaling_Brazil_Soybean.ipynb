{
  "cells": [
    {
      "cell_type": "markdown",
      "id": "0f75cf3f",
      "metadata": {
        "ExecuteTime": {
          "end_time": "2022-10-27T13:39:32.694631Z",
          "start_time": "2022-10-27T13:39:32.683343Z"
        },
        "id": "0f75cf3f"
      },
      "source": [
        "# Importing the packages"
      ]
    },
    {
      "cell_type": "markdown",
      "id": "d0834335",
      "metadata": {
        "id": "d0834335"
      },
      "source": [
        "The overall objective is to create a structured pipeline for downscaling the adm1.5 yield datasets (collected by Bunge at meso-region level) to adm2 level yield datasets (collected by IBGE at county level). This process is the first step for developing yield forecasts."
      ]
    },
    {
      "cell_type": "markdown",
      "id": "09dbe418",
      "metadata": {
        "id": "09dbe418"
      },
      "source": [
        "This step involves importing all the modules and packages that are essential for downscaling. It is equally important to import some modules from Bunge directory such as Utils, PAIRSSQL, AYP_Util, FileIO, PSQL, bowen's vault, feature selection, and model configuration."
      ]
    },
    {
      "cell_type": "code",
      "execution_count": null,
      "id": "d376dcda",
      "metadata": {
        "ExecuteTime": {
          "end_time": "2022-11-14T19:27:26.306860Z",
          "start_time": "2022-11-14T19:27:21.853497Z"
        },
        "id": "d376dcda"
      },
      "outputs": [],
      "source": [
        "import pandas as pd\n",
        "import numpy as np\n",
        "import matplotlib.pyplot as plt\n",
        "import seaborn as sns\n",
        "import warnings; warnings.filterwarnings(\"ignore\")\n",
        "from sklearn import metrics\n",
        "from matplotlib.ticker import MaxNLocator\n",
        "from scipy import stats\n",
        "from scipy.stats import kurtosis\n",
        "from scipy.stats import skew\n",
        "import statsmodels.api as sm\n",
        "from statsmodels.tsa.filters.hp_filter import hpfilter\n",
        "from bunge_utils import feature_selection as bfs\n",
        "\n",
        "from bunge_utils import FileIO, PSQL\n",
        "from bunge_utils import gcs"
      ]
    },
    {
      "cell_type": "code",
      "execution_count": null,
      "metadata": {
        "id": "WtewCRYrAT_k",
        "outputId": "1d180e48-42b4-47dd-ea00-52138e026f6e"
      },
      "outputs": [
        {
          "name": "stderr",
          "output_type": "stream",
          "text": [
            "WARNING:google.auth._default:No project ID could be determined. Consider running `gcloud config set project` or setting the GOOGLE_CLOUD_PROJECT environment variable\n",
            "WARNING:google.auth._default:No project ID could be determined. Consider running `gcloud config set project` or setting the GOOGLE_CLOUD_PROJECT environment variable\n"
          ]
        },
        {
          "data": {
            "text/plain": [
              "(5572, 3)"
            ]
          },
          "execution_count": 2,
          "metadata": {},
          "output_type": "execute_result"
        }
      ],
      "source": [
        "brz_adm2 = gcs.GS().open_gc_geojsonfile(\"gs://bunge-access-point/input/geojsons/BRZ_adm2.geojson\")\n",
        "map_code = brz_adm2[['vector_id','meso_iso']]\n",
        "map_code['state'] = map_code.meso_iso.str.split('.', expand=True)[1]\n",
        "map_code.rename(columns={'vector_id':'muni_iso'}, inplace=True)\n",
        "map_code.shape"
      ],
      "id": "WtewCRYrAT_k"
    },
    {
      "cell_type": "markdown",
      "id": "5c0a831d",
      "metadata": {
        "id": "5c0a831d"
      },
      "source": [
        "# Adm2 (County level) AYP"
      ]
    },
    {
      "cell_type": "markdown",
      "id": "cf14ba5b",
      "metadata": {
        "id": "cf14ba5b"
      },
      "source": [
        "## Importing the data"
      ]
    },
    {
      "cell_type": "markdown",
      "id": "a8ee1b32",
      "metadata": {
        "id": "a8ee1b32"
      },
      "source": [
        "Admin 2 level datasets for Brazil is the County level dataset. IBGE is the data provider for county level weather parameters in Brazil (just like PRISM in US). This dataset source has no affiliation with Bunge. This dataset is not as accurate as the adm 1.5 level datasets which are provided by Bunge. The whole purpose of this activity is to rectify the adm2 level datasets."
      ]
    },
    {
      "cell_type": "code",
      "execution_count": null,
      "id": "9e8ba0db",
      "metadata": {
        "ExecuteTime": {
          "end_time": "2022-11-14T19:27:52.326181Z",
          "start_time": "2022-11-14T19:27:31.826974Z"
        },
        "id": "9e8ba0db"
      },
      "outputs": [],
      "source": [
        "_ibge_adm2 = PSQL.get_soam_ayp_stats_allcrops(\n",
        "    _reg='BR', _level='adm2', _source=2)"
      ]
    },
    {
      "cell_type": "code",
      "execution_count": null,
      "metadata": {
        "id": "KjZ0_rHtAT_m",
        "outputId": "9d0e461a-89ee-4228-f652-889acc6177bf"
      },
      "outputs": [
        {
          "data": {
            "text/html": [
              "<div>\n",
              "<style scoped>\n",
              "    .dataframe tbody tr th:only-of-type {\n",
              "        vertical-align: middle;\n",
              "    }\n",
              "\n",
              "    .dataframe tbody tr th {\n",
              "        vertical-align: top;\n",
              "    }\n",
              "\n",
              "    .dataframe thead th {\n",
              "        text-align: right;\n",
              "    }\n",
              "</style>\n",
              "<table border=\"1\" class=\"dataframe\">\n",
              "  <thead>\n",
              "    <tr style=\"text-align: right;\">\n",
              "      <th></th>\n",
              "      <th>country</th>\n",
              "      <th>vector_id</th>\n",
              "      <th>level</th>\n",
              "      <th>year1</th>\n",
              "      <th>year2</th>\n",
              "      <th>crop_name</th>\n",
              "      <th>crop</th>\n",
              "      <th>source_name</th>\n",
              "      <th>source</th>\n",
              "      <th>acreage_planted</th>\n",
              "      <th>yield</th>\n",
              "      <th>yield_harvested</th>\n",
              "      <th>yield_planted</th>\n",
              "      <th>production</th>\n",
              "      <th>acreage_harvested</th>\n",
              "      <th>ts</th>\n",
              "      <th>planted_year</th>\n",
              "      <th>harvested_year</th>\n",
              "    </tr>\n",
              "  </thead>\n",
              "  <tbody>\n",
              "    <tr>\n",
              "      <th>0</th>\n",
              "      <td>BR</td>\n",
              "      <td>1716604</td>\n",
              "      <td>adm2</td>\n",
              "      <td>1973</td>\n",
              "      <td>1974</td>\n",
              "      <td>Soy First Planted</td>\n",
              "      <td>1</td>\n",
              "      <td>IBGE</td>\n",
              "      <td>2</td>\n",
              "      <td>NaN</td>\n",
              "      <td>1.200</td>\n",
              "      <td>1.200000</td>\n",
              "      <td>NaN</td>\n",
              "      <td>120.0</td>\n",
              "      <td>100.0</td>\n",
              "      <td>2021-10-05 11:19:31</td>\n",
              "      <td>1973</td>\n",
              "      <td>1974</td>\n",
              "    </tr>\n",
              "    <tr>\n",
              "      <th>1</th>\n",
              "      <td>BR</td>\n",
              "      <td>2904902</td>\n",
              "      <td>adm2</td>\n",
              "      <td>1973</td>\n",
              "      <td>1974</td>\n",
              "      <td>Soy First Planted</td>\n",
              "      <td>1</td>\n",
              "      <td>IBGE</td>\n",
              "      <td>2</td>\n",
              "      <td>NaN</td>\n",
              "      <td>1.767</td>\n",
              "      <td>1.766667</td>\n",
              "      <td>NaN</td>\n",
              "      <td>53.0</td>\n",
              "      <td>30.0</td>\n",
              "      <td>2021-10-05 11:19:31</td>\n",
              "      <td>1973</td>\n",
              "      <td>1974</td>\n",
              "    </tr>\n",
              "  </tbody>\n",
              "</table>\n",
              "</div>"
            ],
            "text/plain": [
              "  country vector_id level year1 year2          crop_name crop source_name  \\\n",
              "0      BR   1716604  adm2  1973  1974  Soy First Planted    1        IBGE   \n",
              "1      BR   2904902  adm2  1973  1974  Soy First Planted    1        IBGE   \n",
              "\n",
              "  source  acreage_planted  yield  yield_harvested  yield_planted  production  \\\n",
              "0      2              NaN  1.200         1.200000            NaN       120.0   \n",
              "1      2              NaN  1.767         1.766667            NaN        53.0   \n",
              "\n",
              "   acreage_harvested                  ts planted_year harvested_year  \n",
              "0              100.0 2021-10-05 11:19:31         1973           1974  \n",
              "1               30.0 2021-10-05 11:19:31         1973           1974  "
            ]
          },
          "execution_count": 148,
          "metadata": {},
          "output_type": "execute_result"
        }
      ],
      "source": [
        "_ibge_adm2.head(2)"
      ],
      "id": "KjZ0_rHtAT_m"
    },
    {
      "cell_type": "code",
      "execution_count": null,
      "metadata": {
        "id": "DmPOB89fAT_n",
        "outputId": "8b36badf-dce9-4856-c6fe-659847575342"
      },
      "outputs": [
        {
          "data": {
            "text/plain": [
              "array([1974, 1975, 1976, 1977, 1978, 1979, 1980, 1981, 1982, 1983, 1984,\n",
              "       1985, 1986, 1987, 1988, 1989, 1990, 1991, 1992, 1993, 1994, 1995,\n",
              "       1996, 1997, 1998, 1999, 2000, 2001, 2002, 2003, 2004, 2005, 2006,\n",
              "       2007, 2008, 2009, 2010, 2011, 2012, 2013, 2014, 2015, 2016, 2017,\n",
              "       2018, 2019, 2020], dtype=object)"
            ]
          },
          "execution_count": 149,
          "metadata": {},
          "output_type": "execute_result"
        }
      ],
      "source": [
        "_ibge_adm2.harvested_year.unique()"
      ],
      "id": "DmPOB89fAT_n"
    },
    {
      "cell_type": "markdown",
      "metadata": {
        "id": "sEjyB-vcAT_n"
      },
      "source": [
        "We are missing two years of yield datasets."
      ],
      "id": "sEjyB-vcAT_n"
    },
    {
      "cell_type": "markdown",
      "id": "13049e25",
      "metadata": {
        "id": "13049e25"
      },
      "source": [
        "## Investigating the data structure"
      ]
    },
    {
      "cell_type": "code",
      "execution_count": null,
      "id": "6a4cb76c",
      "metadata": {
        "ExecuteTime": {
          "end_time": "2022-11-14T19:27:52.387195Z",
          "start_time": "2022-11-14T19:27:52.329893Z"
        },
        "id": "6a4cb76c",
        "outputId": "53474ce2-fd07-4615-8105-554c9582f824"
      },
      "outputs": [
        {
          "data": {
            "text/plain": [
              "array(['Soy First Planted', 'Corn First Planted', 'Corn Second Planted',\n",
              "       'Cotton First Planted'], dtype=object)"
            ]
          },
          "execution_count": 4,
          "metadata": {},
          "output_type": "execute_result"
        }
      ],
      "source": [
        "_ibge_adm2['crop_name'].unique()"
      ]
    },
    {
      "cell_type": "code",
      "execution_count": null,
      "id": "138290bd",
      "metadata": {
        "ExecuteTime": {
          "end_time": "2022-11-14T19:27:52.697684Z",
          "start_time": "2022-11-14T19:27:52.391993Z"
        },
        "id": "138290bd",
        "outputId": "22029a87-c8a4-4d73-c088-2a42e922c9b1"
      },
      "outputs": [
        {
          "name": "stdout",
          "output_type": "stream",
          "text": [
            "<class 'pandas.core.frame.DataFrame'>\n",
            "RangeIndex: 229932 entries, 0 to 229931\n",
            "Data columns (total 18 columns):\n",
            " #   Column             Non-Null Count   Dtype         \n",
            "---  ------             --------------   -----         \n",
            " 0   country            229932 non-null  object        \n",
            " 1   vector_id          229932 non-null  object        \n",
            " 2   level              229932 non-null  object        \n",
            " 3   year1              229932 non-null  object        \n",
            " 4   year2              229932 non-null  object        \n",
            " 5   crop_name          229932 non-null  object        \n",
            " 6   crop               229932 non-null  object        \n",
            " 7   source_name        229932 non-null  object        \n",
            " 8   source             229932 non-null  object        \n",
            " 9   acreage_planted    195934 non-null  float64       \n",
            " 10  yield              228159 non-null  float64       \n",
            " 11  yield_harvested    227962 non-null  float64       \n",
            " 12  yield_planted      194506 non-null  float64       \n",
            " 13  production         228506 non-null  float64       \n",
            " 14  acreage_harvested  228506 non-null  float64       \n",
            " 15  ts                 229932 non-null  datetime64[ns]\n",
            " 16  planted_year       229932 non-null  object        \n",
            " 17  harvested_year     229932 non-null  object        \n",
            "dtypes: datetime64[ns](1), float64(6), object(11)\n",
            "memory usage: 31.6+ MB\n"
          ]
        }
      ],
      "source": [
        "_ibge_adm2.info()"
      ]
    },
    {
      "cell_type": "code",
      "execution_count": null,
      "id": "b94519d7",
      "metadata": {
        "ExecuteTime": {
          "end_time": "2022-11-14T19:27:52.722782Z",
          "start_time": "2022-11-14T19:27:52.701706Z"
        },
        "id": "b94519d7",
        "outputId": "13c225be-a7c6-4044-cdfb-5296c136c22f"
      },
      "outputs": [
        {
          "data": {
            "text/plain": [
              "(229932, 18)"
            ]
          },
          "metadata": {},
          "output_type": "display_data"
        },
        {
          "data": {
            "text/html": [
              "<div>\n",
              "<style scoped>\n",
              "    .dataframe tbody tr th:only-of-type {\n",
              "        vertical-align: middle;\n",
              "    }\n",
              "\n",
              "    .dataframe tbody tr th {\n",
              "        vertical-align: top;\n",
              "    }\n",
              "\n",
              "    .dataframe thead th {\n",
              "        text-align: right;\n",
              "    }\n",
              "</style>\n",
              "<table border=\"1\" class=\"dataframe\">\n",
              "  <thead>\n",
              "    <tr style=\"text-align: right;\">\n",
              "      <th></th>\n",
              "      <th>count</th>\n",
              "      <th>mean</th>\n",
              "      <th>min</th>\n",
              "      <th>25%</th>\n",
              "      <th>50%</th>\n",
              "      <th>75%</th>\n",
              "      <th>max</th>\n",
              "      <th>std</th>\n",
              "    </tr>\n",
              "  </thead>\n",
              "  <tbody>\n",
              "    <tr>\n",
              "      <th>vector_id</th>\n",
              "      <td>229932.0</td>\n",
              "      <td>3519126.664396</td>\n",
              "      <td>1100015.0</td>\n",
              "      <td>2900900.0</td>\n",
              "      <td>3528700.0</td>\n",
              "      <td>4209854.0</td>\n",
              "      <td>5300108.0</td>\n",
              "      <td>978728.212852</td>\n",
              "    </tr>\n",
              "    <tr>\n",
              "      <th>acreage_planted</th>\n",
              "      <td>195934.0</td>\n",
              "      <td>4962.862025</td>\n",
              "      <td>0.0</td>\n",
              "      <td>150.0</td>\n",
              "      <td>672.0</td>\n",
              "      <td>2941.5</td>\n",
              "      <td>635000.0</td>\n",
              "      <td>18697.807828</td>\n",
              "    </tr>\n",
              "    <tr>\n",
              "      <th>yield</th>\n",
              "      <td>228159.0</td>\n",
              "      <td>2.527491</td>\n",
              "      <td>0.0</td>\n",
              "      <td>1.02</td>\n",
              "      <td>2.1</td>\n",
              "      <td>3.339</td>\n",
              "      <td>27.0</td>\n",
              "      <td>1.985465</td>\n",
              "    </tr>\n",
              "    <tr>\n",
              "      <th>yield_harvested</th>\n",
              "      <td>227962.0</td>\n",
              "      <td>2.5297</td>\n",
              "      <td>0.001</td>\n",
              "      <td>1.027376</td>\n",
              "      <td>2.1</td>\n",
              "      <td>3.346939</td>\n",
              "      <td>27.0</td>\n",
              "      <td>1.984895</td>\n",
              "    </tr>\n",
              "    <tr>\n",
              "      <th>yield_planted</th>\n",
              "      <td>194506.0</td>\n",
              "      <td>2.734957</td>\n",
              "      <td>0.0</td>\n",
              "      <td>1.2</td>\n",
              "      <td>2.4</td>\n",
              "      <td>3.6</td>\n",
              "      <td>27.608156</td>\n",
              "      <td>2.055513</td>\n",
              "    </tr>\n",
              "    <tr>\n",
              "      <th>production</th>\n",
              "      <td>228506.0</td>\n",
              "      <td>14522.954631</td>\n",
              "      <td>0.0</td>\n",
              "      <td>174.0</td>\n",
              "      <td>1140.0</td>\n",
              "      <td>7526.75</td>\n",
              "      <td>3841570.0</td>\n",
              "      <td>62128.50352</td>\n",
              "    </tr>\n",
              "    <tr>\n",
              "      <th>acreage_harvested</th>\n",
              "      <td>228506.0</td>\n",
              "      <td>4794.928111</td>\n",
              "      <td>0.0</td>\n",
              "      <td>140.0</td>\n",
              "      <td>600.0</td>\n",
              "      <td>2800.0</td>\n",
              "      <td>630000.0</td>\n",
              "      <td>17799.163938</td>\n",
              "    </tr>\n",
              "    <tr>\n",
              "      <th>ts</th>\n",
              "      <td>229932</td>\n",
              "      <td>2021-10-05 11:49:29.778621440</td>\n",
              "      <td>2021-10-05 11:19:31</td>\n",
              "      <td>2021-10-05 11:19:31</td>\n",
              "      <td>2021-10-05 11:19:39</td>\n",
              "      <td>2021-10-05 12:22:09</td>\n",
              "      <td>2021-10-05 12:22:09</td>\n",
              "      <td>NaN</td>\n",
              "    </tr>\n",
              "    <tr>\n",
              "      <th>planted_year</th>\n",
              "      <td>229932.0</td>\n",
              "      <td>2003.110937</td>\n",
              "      <td>1973.0</td>\n",
              "      <td>1995.0</td>\n",
              "      <td>2006.0</td>\n",
              "      <td>2013.0</td>\n",
              "      <td>2020.0</td>\n",
              "      <td>12.623031</td>\n",
              "    </tr>\n",
              "    <tr>\n",
              "      <th>harvested_year</th>\n",
              "      <td>229932.0</td>\n",
              "      <td>2004.012947</td>\n",
              "      <td>1974.0</td>\n",
              "      <td>1996.0</td>\n",
              "      <td>2007.0</td>\n",
              "      <td>2014.0</td>\n",
              "      <td>2020.0</td>\n",
              "      <td>12.552591</td>\n",
              "    </tr>\n",
              "  </tbody>\n",
              "</table>\n",
              "</div>"
            ],
            "text/plain": [
              "                      count                           mean  \\\n",
              "vector_id          229932.0                 3519126.664396   \n",
              "acreage_planted    195934.0                    4962.862025   \n",
              "yield              228159.0                       2.527491   \n",
              "yield_harvested    227962.0                         2.5297   \n",
              "yield_planted      194506.0                       2.734957   \n",
              "production         228506.0                   14522.954631   \n",
              "acreage_harvested  228506.0                    4794.928111   \n",
              "ts                   229932  2021-10-05 11:49:29.778621440   \n",
              "planted_year       229932.0                    2003.110937   \n",
              "harvested_year     229932.0                    2004.012947   \n",
              "\n",
              "                                   min                  25%  \\\n",
              "vector_id                    1100015.0            2900900.0   \n",
              "acreage_planted                    0.0                150.0   \n",
              "yield                              0.0                 1.02   \n",
              "yield_harvested                  0.001             1.027376   \n",
              "yield_planted                      0.0                  1.2   \n",
              "production                         0.0                174.0   \n",
              "acreage_harvested                  0.0                140.0   \n",
              "ts                 2021-10-05 11:19:31  2021-10-05 11:19:31   \n",
              "planted_year                    1973.0               1995.0   \n",
              "harvested_year                  1974.0               1996.0   \n",
              "\n",
              "                                   50%                  75%  \\\n",
              "vector_id                    3528700.0            4209854.0   \n",
              "acreage_planted                  672.0               2941.5   \n",
              "yield                              2.1                3.339   \n",
              "yield_harvested                    2.1             3.346939   \n",
              "yield_planted                      2.4                  3.6   \n",
              "production                      1140.0              7526.75   \n",
              "acreage_harvested                600.0               2800.0   \n",
              "ts                 2021-10-05 11:19:39  2021-10-05 12:22:09   \n",
              "planted_year                    2006.0               2013.0   \n",
              "harvested_year                  2007.0               2014.0   \n",
              "\n",
              "                                   max            std  \n",
              "vector_id                    5300108.0  978728.212852  \n",
              "acreage_planted               635000.0   18697.807828  \n",
              "yield                             27.0       1.985465  \n",
              "yield_harvested                   27.0       1.984895  \n",
              "yield_planted                27.608156       2.055513  \n",
              "production                   3841570.0    62128.50352  \n",
              "acreage_harvested             630000.0   17799.163938  \n",
              "ts                 2021-10-05 12:22:09            NaN  \n",
              "planted_year                    2020.0      12.623031  \n",
              "harvested_year                  2020.0      12.552591  "
            ]
          },
          "execution_count": 6,
          "metadata": {},
          "output_type": "execute_result"
        }
      ],
      "source": [
        "_ibge_adm2['harvested_year'] = _ibge_adm2['harvested_year'].astype(int)\n",
        "_ibge_adm2['vector_id'] = _ibge_adm2['vector_id'].astype(int)\n",
        "_ibge_adm2['planted_year'] = _ibge_adm2['planted_year'].astype(int)\n",
        "display(_ibge_adm2.shape)\n",
        "_ibge_adm2.describe().transpose()"
      ]
    },
    {
      "cell_type": "markdown",
      "id": "a49e6448",
      "metadata": {
        "id": "a49e6448"
      },
      "source": [
        "## Sorting, Filtering, and Merging"
      ]
    },
    {
      "cell_type": "markdown",
      "id": "09d02849",
      "metadata": {
        "id": "09d02849"
      },
      "source": [
        "Keeping the datasets for soybean crop only. Merging the dataframe _ibge_adm2_soy with map_code(introduced in the beginning) to accumulate the yield datasets with the meso-region IDs (meso_iso). This step involves classifying and organizing the datasets while merging dataframes."
      ]
    },
    {
      "cell_type": "code",
      "execution_count": null,
      "id": "eebc3316",
      "metadata": {
        "ExecuteTime": {
          "end_time": "2022-11-14T19:27:56.074281Z",
          "start_time": "2022-11-14T19:27:56.012421Z"
        },
        "id": "eebc3316",
        "outputId": "0da6f749-11bc-4151-fb36-2cbc4e2227b9"
      },
      "outputs": [
        {
          "data": {
            "text/plain": [
              "array(['Soy First Planted', 'Corn First Planted', 'Corn Second Planted',\n",
              "       'Cotton First Planted'], dtype=object)"
            ]
          },
          "execution_count": 7,
          "metadata": {},
          "output_type": "execute_result"
        }
      ],
      "source": [
        "_ibge_adm2.crop_name.unique()"
      ]
    },
    {
      "cell_type": "code",
      "execution_count": null,
      "id": "881ace73",
      "metadata": {
        "ExecuteTime": {
          "end_time": "2022-11-14T19:27:56.734349Z",
          "start_time": "2022-11-14T19:27:56.499783Z"
        },
        "id": "881ace73"
      },
      "outputs": [],
      "source": [
        "_ibge_adm2_soy = _ibge_adm2.copy()\n",
        "_ibge_adm2_soy = _ibge_adm2_soy[_ibge_adm2_soy['crop_name'] == 'Soy First Planted']"
      ]
    },
    {
      "cell_type": "code",
      "execution_count": null,
      "id": "f8422d1c",
      "metadata": {
        "ExecuteTime": {
          "end_time": "2022-11-14T19:27:57.576250Z",
          "start_time": "2022-11-14T19:27:57.403577Z"
        },
        "id": "f8422d1c"
      },
      "outputs": [],
      "source": [
        "map_code = map_code.astype({'muni_iso':int})\n",
        "_ibge_adm2_soy = pd.merge(_ibge_adm2_soy, map_code, left_on = 'vector_id',\n",
        "                                      right_on = 'muni_iso')"
      ]
    },
    {
      "cell_type": "code",
      "execution_count": null,
      "id": "ecd926a0",
      "metadata": {
        "ExecuteTime": {
          "end_time": "2022-11-14T19:27:57.807768Z",
          "start_time": "2022-11-14T19:27:57.800801Z"
        },
        "id": "ecd926a0",
        "outputId": "d5b53616-b8e1-44e2-ccf5-a9da41dc322e"
      },
      "outputs": [
        {
          "data": {
            "text/plain": [
              "(70805, 21)"
            ]
          },
          "execution_count": 10,
          "metadata": {},
          "output_type": "execute_result"
        }
      ],
      "source": [
        "_ibge_adm2_soy.shape"
      ]
    },
    {
      "cell_type": "code",
      "execution_count": null,
      "metadata": {
        "id": "9p5fGTg5AT_p",
        "outputId": "4a638e40-5534-4f76-d371-184ed91e97ea"
      },
      "outputs": [
        {
          "data": {
            "text/plain": [
              "array([1974, 1978, 1979, 1982, 1983, 1984, 1985, 1986, 1987, 1988, 1989,\n",
              "       1990, 1991, 1992, 1993, 1994, 1995, 1996, 1997, 1998, 1999, 2000,\n",
              "       2001, 2002, 2003, 2004, 2005, 2006, 2007, 2008, 2009, 2010, 2011,\n",
              "       2012, 2013, 2014, 2015, 2016, 2017, 2018, 2019, 2020, 1975, 1976,\n",
              "       1977, 1980, 1981], dtype=object)"
            ]
          },
          "execution_count": 42,
          "metadata": {},
          "output_type": "execute_result"
        }
      ],
      "source": [
        "_ibge_adm2_soy.year2.unique()"
      ],
      "id": "9p5fGTg5AT_p"
    },
    {
      "cell_type": "markdown",
      "id": "d88c6ac9",
      "metadata": {
        "id": "d88c6ac9"
      },
      "source": [
        "## Organizing"
      ]
    },
    {
      "cell_type": "code",
      "execution_count": null,
      "id": "7f5038b5",
      "metadata": {
        "ExecuteTime": {
          "end_time": "2022-11-14T19:27:58.676825Z",
          "start_time": "2022-11-14T19:27:58.530521Z"
        },
        "id": "7f5038b5",
        "outputId": "709745cf-f0a7-494a-a158-877938c69923"
      },
      "outputs": [
        {
          "data": {
            "text/html": [
              "<div>\n",
              "<style scoped>\n",
              "    .dataframe tbody tr th:only-of-type {\n",
              "        vertical-align: middle;\n",
              "    }\n",
              "\n",
              "    .dataframe tbody tr th {\n",
              "        vertical-align: top;\n",
              "    }\n",
              "\n",
              "    .dataframe thead th {\n",
              "        text-align: right;\n",
              "    }\n",
              "</style>\n",
              "<table border=\"1\" class=\"dataframe\">\n",
              "  <thead>\n",
              "    <tr style=\"text-align: right;\">\n",
              "      <th></th>\n",
              "      <th>year</th>\n",
              "      <th>state</th>\n",
              "      <th>meso_iso</th>\n",
              "      <th>muni_iso</th>\n",
              "      <th>vector_id</th>\n",
              "      <th>acreage_harvested_adm2</th>\n",
              "      <th>acreage_planted_adm2</th>\n",
              "      <th>production_adm2</th>\n",
              "      <th>yield_adm2</th>\n",
              "    </tr>\n",
              "  </thead>\n",
              "  <tbody>\n",
              "    <tr>\n",
              "      <th>0</th>\n",
              "      <td>1974</td>\n",
              "      <td>TO</td>\n",
              "      <td>BR.TO.01</td>\n",
              "      <td>1716604</td>\n",
              "      <td>1716604</td>\n",
              "      <td>100.0</td>\n",
              "      <td>NaN</td>\n",
              "      <td>120.0</td>\n",
              "      <td>1.200</td>\n",
              "    </tr>\n",
              "    <tr>\n",
              "      <th>1</th>\n",
              "      <td>1978</td>\n",
              "      <td>TO</td>\n",
              "      <td>BR.TO.01</td>\n",
              "      <td>1716604</td>\n",
              "      <td>1716604</td>\n",
              "      <td>48.0</td>\n",
              "      <td>NaN</td>\n",
              "      <td>52.0</td>\n",
              "      <td>1.083</td>\n",
              "    </tr>\n",
              "    <tr>\n",
              "      <th>2</th>\n",
              "      <td>1979</td>\n",
              "      <td>TO</td>\n",
              "      <td>BR.TO.01</td>\n",
              "      <td>1716604</td>\n",
              "      <td>1716604</td>\n",
              "      <td>125.0</td>\n",
              "      <td>NaN</td>\n",
              "      <td>188.0</td>\n",
              "      <td>1.504</td>\n",
              "    </tr>\n",
              "    <tr>\n",
              "      <th>3</th>\n",
              "      <td>1982</td>\n",
              "      <td>TO</td>\n",
              "      <td>BR.TO.01</td>\n",
              "      <td>1716604</td>\n",
              "      <td>1716604</td>\n",
              "      <td>498.0</td>\n",
              "      <td>NaN</td>\n",
              "      <td>647.0</td>\n",
              "      <td>1.299</td>\n",
              "    </tr>\n",
              "    <tr>\n",
              "      <th>4</th>\n",
              "      <td>1983</td>\n",
              "      <td>TO</td>\n",
              "      <td>BR.TO.01</td>\n",
              "      <td>1716604</td>\n",
              "      <td>1716604</td>\n",
              "      <td>345.0</td>\n",
              "      <td>NaN</td>\n",
              "      <td>414.0</td>\n",
              "      <td>1.200</td>\n",
              "    </tr>\n",
              "  </tbody>\n",
              "</table>\n",
              "</div>"
            ],
            "text/plain": [
              "   year state  meso_iso  muni_iso  vector_id  acreage_harvested_adm2  \\\n",
              "0  1974    TO  BR.TO.01   1716604    1716604                   100.0   \n",
              "1  1978    TO  BR.TO.01   1716604    1716604                    48.0   \n",
              "2  1979    TO  BR.TO.01   1716604    1716604                   125.0   \n",
              "3  1982    TO  BR.TO.01   1716604    1716604                   498.0   \n",
              "4  1983    TO  BR.TO.01   1716604    1716604                   345.0   \n",
              "\n",
              "   acreage_planted_adm2  production_adm2  yield_adm2  \n",
              "0                   NaN            120.0       1.200  \n",
              "1                   NaN             52.0       1.083  \n",
              "2                   NaN            188.0       1.504  \n",
              "3                   NaN            647.0       1.299  \n",
              "4                   NaN            414.0       1.200  "
            ]
          },
          "execution_count": 11,
          "metadata": {},
          "output_type": "execute_result"
        }
      ],
      "source": [
        "_ibge_adm2_soy_BR = _ibge_adm2_soy.copy()\n",
        "_ibge_adm2_soy_BR = _ibge_adm2_soy_BR[['harvested_year', 'state', 'meso_iso',\n",
        "                                       'muni_iso','vector_id','acreage_harvested',\n",
        "                                       'acreage_planted','production', 'yield']]\n",
        "_ibge_adm2_soy_BR.rename(columns = {'harvested_year':'year',\n",
        "                                    'acreage_harvested': 'acreage_harvested_adm2',\n",
        "                                    'acreage_planted': 'acreage_planted_adm2',\n",
        "                                    'production': 'production_adm2',\n",
        "                                    'yield': 'yield_adm2'}, inplace = True)\n",
        "_ibge_adm2_soy_BR.head()"
      ]
    },
    {
      "cell_type": "code",
      "execution_count": null,
      "metadata": {
        "id": "YMK-zmnQAT_q",
        "outputId": "7d8e961b-f8c2-4a1c-a186-55d1f0e85c3b"
      },
      "outputs": [
        {
          "data": {
            "text/plain": [
              "array(['BR.TO.01', 'BR.BA.02', 'BR.MG.02', 'BR.MG.04', 'BR.MG.03',\n",
              "       'BR.MG.01', 'BR.ES.01', 'BR.SP.02', 'BR.SP.01', 'BR.PR.01',\n",
              "       'BR.PR.03', 'BR.PR.02', 'BR.SC.01', 'BR.RS.03', 'BR.RS.02',\n",
              "       'BR.RS.01', 'BR.MS.04', 'BR.MS.01', 'BR.MS.03', 'BR.MS.05',\n",
              "       'BR.MS.02', 'BR.MT.03', 'BR.GO.01', 'BR.GO.02', 'BR.DF.01',\n",
              "       'BR.MT.02', 'BR.MT.05', 'BR.MT.01', 'BR.TO.02', 'BR.MA.02',\n",
              "       'BR.PI.01', 'BR.MT.06', 'BR.BA.01', 'BR.MA.01', 'BR.MT.04',\n",
              "       'BR.RO.01', 'BR.SE.01', 'BR.PA.02', 'BR.AL.01', 'BR.CE.01',\n",
              "       'BR.RJ.01', 'BR.PE.01', 'BR.AM.01', 'BR.PA.01', 'BR.AC.01',\n",
              "       'BR.RR.01', 'BR.AP.01', 'BR.PB.01'], dtype=object)"
            ]
          },
          "execution_count": 61,
          "metadata": {},
          "output_type": "execute_result"
        }
      ],
      "source": [
        "_ibge_adm2_soy_BR.meso_iso.unique()"
      ],
      "id": "YMK-zmnQAT_q"
    },
    {
      "cell_type": "code",
      "execution_count": null,
      "metadata": {
        "id": "a5lCkfeyAT_q",
        "outputId": "ea01f06a-0808-44f3-a996-076a1de93209"
      },
      "outputs": [
        {
          "data": {
            "text/plain": [
              "Index(['BR.PA.02', 'BR.PA.01'], dtype='object')"
            ]
          },
          "execution_count": 53,
          "metadata": {},
          "output_type": "execute_result"
        }
      ],
      "source": [
        "pd.Index(_ibge_adm2_soy_BR.meso_iso.unique())[pd.Index(_ibge_adm2_soy_BR.meso_iso.unique()).str.contains('PA')]"
      ],
      "id": "a5lCkfeyAT_q"
    },
    {
      "cell_type": "markdown",
      "metadata": {
        "id": "5wzeltaHAT_q"
      },
      "source": [
        "We are missing an adm1_5 over here (BR.PA.03) [PARA]"
      ],
      "id": "5wzeltaHAT_q"
    },
    {
      "cell_type": "markdown",
      "id": "dfe8fd5f",
      "metadata": {
        "id": "dfe8fd5f"
      },
      "source": [
        "# ADM15 (Meso-region level) AYP"
      ]
    },
    {
      "cell_type": "markdown",
      "id": "61c5b196",
      "metadata": {
        "id": "61c5b196"
      },
      "source": [
        "## Importing"
      ]
    },
    {
      "cell_type": "markdown",
      "id": "d3b29763",
      "metadata": {
        "id": "d3b29763"
      },
      "source": [
        "PAIRS is a server that IBM provides. PSQL is a database that Chuck maintains. All the datasets used for modeling are available on the PSQL platform. This whole dataset retrieved from PSQL is maintained by Bunge and is highly accurate. Crop Code '9' is used for soybean."
      ]
    },
    {
      "cell_type": "markdown",
      "id": "ddc028fa",
      "metadata": {
        "id": "ddc028fa"
      },
      "source": [
        "The adm 1.5 level dataset is provided by Bunge grids. The local research team (with Victor, Janaina, and Mario) maintains it and helps in updating it weekly."
      ]
    },
    {
      "cell_type": "code",
      "execution_count": null,
      "id": "55d6271a",
      "metadata": {
        "ExecuteTime": {
          "end_time": "2022-11-14T19:28:00.285829Z",
          "start_time": "2022-11-14T19:28:00.246734Z"
        },
        "id": "55d6271a",
        "outputId": "9fa6f846-9b81-44ab-996e-0ea3e020becc"
      },
      "outputs": [
        {
          "data": {
            "text/html": [
              "<div>\n",
              "<style scoped>\n",
              "    .dataframe tbody tr th:only-of-type {\n",
              "        vertical-align: middle;\n",
              "    }\n",
              "\n",
              "    .dataframe tbody tr th {\n",
              "        vertical-align: top;\n",
              "    }\n",
              "\n",
              "    .dataframe thead th {\n",
              "        text-align: right;\n",
              "    }\n",
              "</style>\n",
              "<table border=\"1\" class=\"dataframe\">\n",
              "  <thead>\n",
              "    <tr style=\"text-align: right;\">\n",
              "      <th></th>\n",
              "      <th>code</th>\n",
              "      <th>description</th>\n",
              "    </tr>\n",
              "  </thead>\n",
              "  <tbody>\n",
              "    <tr>\n",
              "      <th>0</th>\n",
              "      <td>1</td>\n",
              "      <td>Soy First Planted</td>\n",
              "    </tr>\n",
              "    <tr>\n",
              "      <th>1</th>\n",
              "      <td>2</td>\n",
              "      <td>Corn First Planted</td>\n",
              "    </tr>\n",
              "    <tr>\n",
              "      <th>2</th>\n",
              "      <td>3</td>\n",
              "      <td>Wheat First Planted</td>\n",
              "    </tr>\n",
              "    <tr>\n",
              "      <th>3</th>\n",
              "      <td>4</td>\n",
              "      <td>Soy  Second Planted</td>\n",
              "    </tr>\n",
              "    <tr>\n",
              "      <th>4</th>\n",
              "      <td>5</td>\n",
              "      <td>Corn Second Planted</td>\n",
              "    </tr>\n",
              "    <tr>\n",
              "      <th>5</th>\n",
              "      <td>6</td>\n",
              "      <td>Corn First+Second Planted</td>\n",
              "    </tr>\n",
              "    <tr>\n",
              "      <th>6</th>\n",
              "      <td>7</td>\n",
              "      <td>Cotton First Planted</td>\n",
              "    </tr>\n",
              "    <tr>\n",
              "      <th>7</th>\n",
              "      <td>8</td>\n",
              "      <td>Sunflower First Planted</td>\n",
              "    </tr>\n",
              "    <tr>\n",
              "      <th>8</th>\n",
              "      <td>9</td>\n",
              "      <td>Soy First+Second Planted</td>\n",
              "    </tr>\n",
              "    <tr>\n",
              "      <th>9</th>\n",
              "      <td>10</td>\n",
              "      <td>Sorghum First Planted</td>\n",
              "    </tr>\n",
              "    <tr>\n",
              "      <th>10</th>\n",
              "      <td>11</td>\n",
              "      <td>Rapeseed First Planted</td>\n",
              "    </tr>\n",
              "    <tr>\n",
              "      <th>11</th>\n",
              "      <td>12</td>\n",
              "      <td>Durum First Planted</td>\n",
              "    </tr>\n",
              "    <tr>\n",
              "      <th>12</th>\n",
              "      <td>13</td>\n",
              "      <td>Barley First Planted</td>\n",
              "    </tr>\n",
              "    <tr>\n",
              "      <th>13</th>\n",
              "      <td>14</td>\n",
              "      <td>Barley Second Planted</td>\n",
              "    </tr>\n",
              "    <tr>\n",
              "      <th>14</th>\n",
              "      <td>15</td>\n",
              "      <td>Barley First+Second Planted</td>\n",
              "    </tr>\n",
              "    <tr>\n",
              "      <th>15</th>\n",
              "      <td>16</td>\n",
              "      <td>Fieldbean First Planted</td>\n",
              "    </tr>\n",
              "    <tr>\n",
              "      <th>16</th>\n",
              "      <td>17</td>\n",
              "      <td>Oat First Planted</td>\n",
              "    </tr>\n",
              "    <tr>\n",
              "      <th>17</th>\n",
              "      <td>18</td>\n",
              "      <td>Pea First Planted</td>\n",
              "    </tr>\n",
              "    <tr>\n",
              "      <th>18</th>\n",
              "      <td>19</td>\n",
              "      <td>Rye First Planted</td>\n",
              "    </tr>\n",
              "    <tr>\n",
              "      <th>19</th>\n",
              "      <td>20</td>\n",
              "      <td>Triticale First Planted</td>\n",
              "    </tr>\n",
              "  </tbody>\n",
              "</table>\n",
              "</div>"
            ],
            "text/plain": [
              "    code                  description\n",
              "0      1            Soy First Planted\n",
              "1      2           Corn First Planted\n",
              "2      3          Wheat First Planted\n",
              "3      4          Soy  Second Planted\n",
              "4      5          Corn Second Planted\n",
              "5      6    Corn First+Second Planted\n",
              "6      7         Cotton First Planted\n",
              "7      8      Sunflower First Planted\n",
              "8      9     Soy First+Second Planted\n",
              "9     10        Sorghum First Planted\n",
              "10    11       Rapeseed First Planted\n",
              "11    12          Durum First Planted\n",
              "12    13         Barley First Planted\n",
              "13    14        Barley Second Planted\n",
              "14    15  Barley First+Second Planted\n",
              "15    16      Fieldbean First Planted\n",
              "16    17            Oat First Planted\n",
              "17    18            Pea First Planted\n",
              "18    19            Rye First Planted\n",
              "19    20      Triticale First Planted"
            ]
          },
          "execution_count": 49,
          "metadata": {},
          "output_type": "execute_result"
        }
      ],
      "source": [
        "PSQL.get_soam_crop_codes()"
      ]
    },
    {
      "cell_type": "markdown",
      "metadata": {
        "id": "z3pad2hfAT_r"
      },
      "source": [
        "IMPORTANT NOTE: The function needs to be cleaned in the PSQL later on. In addition to the adm1_5 level datasets, data at adm0 and adm1 is being retrieved as well. However, there are three adm1s (BR.SC, BR.PI, and BR.RO) which represent the same dataset as adm1_5s (BR.SC.01, BR.PI.01, and BR.RO.01), it is because these adm1s contain only one meso-region and they can be represented with their respective adm1_5 ids. Other than these three, we can get rid of other adm1s and adm0."
      ],
      "id": "z3pad2hfAT_r"
    },
    {
      "cell_type": "code",
      "execution_count": null,
      "id": "70cb0265",
      "metadata": {
        "ExecuteTime": {
          "end_time": "2022-11-14T19:28:00.860334Z",
          "start_time": "2022-11-14T19:28:00.695536Z"
        },
        "id": "70cb0265"
      },
      "outputs": [],
      "source": [
        "_bg_adm15 = PSQL.get_soam_ayp_stats(_reg = 'BR', _crop = 9, _level = ['adm1.5'],\n",
        "                                   _source = 1, _debug = False, _test = True)\n",
        "_bg_adm15.replace({'BR.SC':'BR.SC.01','BR.PI':'BR.PI.01','BR.RO':'BR.RO.01'}, inplace=True)"
      ]
    },
    {
      "cell_type": "code",
      "execution_count": null,
      "metadata": {
        "id": "8TeNfTT3AT_r",
        "outputId": "49396fc5-8646-4d62-ca06-6c65c899575e"
      },
      "outputs": [
        {
          "data": {
            "text/plain": [
              "array(['BR', 'BR.BA', 'BR.BA.01', 'BR.BA.02', 'BR.GO+DF', 'BR.DF.01',\n",
              "       'BR.GO.01', 'BR.GO.02', 'BR.MA', 'BR.MA.01', 'BR.MA.02', 'BR.MG',\n",
              "       'BR.MG.01', 'BR.MG.02', 'BR.MG.03', 'BR.MG.04', 'BR.MS',\n",
              "       'BR.MS.01', 'BR.MS.02', 'BR.MS.03', 'BR.MS.04', 'BR.MS.05',\n",
              "       'BR.MT', 'BR.MT.01', 'BR.MT.02', 'BR.MT.03', 'BR.MT.04',\n",
              "       'BR.MT.05', 'BR.MT.06', 'BR.PA', 'BR.PA.01', 'BR.PA.02',\n",
              "       'BR.PA.03', 'BR.PI.01', 'BR.PR', 'BR.PR.01', 'BR.PR.02',\n",
              "       'BR.PR.03', 'BR.RO.01', 'BR.RS', 'BR.RS.01', 'BR.RS.02',\n",
              "       'BR.RS.03', 'BR.SC.01', 'BR.SP', 'BR.SP.01', 'BR.SP.02', 'BR.TO',\n",
              "       'BR.TO.01', 'BR.TO.02', 'BR.CE', 'BR.OTHERS', 'BR.OTHERS.N',\n",
              "       'BR.OTHERS.NE', 'BR.OTHERS.SE'], dtype=object)"
            ]
          },
          "execution_count": 51,
          "metadata": {},
          "output_type": "execute_result"
        }
      ],
      "source": [
        "_bg_adm15.vector_id.unique()"
      ],
      "id": "8TeNfTT3AT_r"
    },
    {
      "cell_type": "markdown",
      "id": "0a63bffb",
      "metadata": {
        "ExecuteTime": {
          "end_time": "2022-10-26T23:32:26.866879Z",
          "start_time": "2022-10-26T23:32:26.825743Z"
        },
        "id": "0a63bffb"
      },
      "source": [
        "## Sorting and Filtering"
      ]
    },
    {
      "cell_type": "code",
      "execution_count": null,
      "id": "fe1a6843",
      "metadata": {
        "ExecuteTime": {
          "end_time": "2022-11-14T19:28:01.869622Z",
          "start_time": "2022-11-14T19:28:01.843820Z"
        },
        "id": "fe1a6843",
        "outputId": "c24122d1-e652-4731-ffb9-8388b4c54128"
      },
      "outputs": [
        {
          "ename": "",
          "evalue": "",
          "output_type": "error",
          "traceback": [
            "\u001b[1;31mRunning cells with '/bin/python3' requires the ipykernel package.\n",
            "\u001b[1;31mRun the following command to install 'ipykernel' into the Python environment. \n",
            "\u001b[1;31mCommand: '/bin/python3 -m pip install ipykernel -U --user --force-reinstall'"
          ]
        }
      ],
      "source": [
        "_bg_adm15_soy = _bg_adm15.copy()\n",
        "_bg_adm15_soy = _bg_adm15_soy[['harvested_year', 'vector_id','acreage_planted',\n",
        "                                       'production', 'yield']]"
      ]
    },
    {
      "cell_type": "markdown",
      "id": "6382aa55",
      "metadata": {
        "ExecuteTime": {
          "end_time": "2022-10-26T23:34:38.213582Z",
          "start_time": "2022-10-26T23:34:38.192531Z"
        },
        "id": "6382aa55"
      },
      "source": [
        "Renaming the columns before merging them."
      ]
    },
    {
      "cell_type": "code",
      "execution_count": null,
      "id": "39d31cd3",
      "metadata": {
        "ExecuteTime": {
          "end_time": "2022-11-14T19:28:02.616853Z",
          "start_time": "2022-11-14T19:28:02.593410Z"
        },
        "id": "39d31cd3"
      },
      "outputs": [],
      "source": [
        "_bg_adm15_soy.rename(columns = {'harvested_year': 'year','vector_id': 'meso_iso',\n",
        "                                'acreage_planted': 'acreage_planted_adm15',\n",
        "                                'production': 'production_adm15', 'yield':\n",
        "                                'yield_adm15'}, inplace = True)"
      ]
    },
    {
      "cell_type": "code",
      "execution_count": null,
      "id": "7b4eb4e7",
      "metadata": {
        "ExecuteTime": {
          "end_time": "2022-11-14T19:28:02.976649Z",
          "start_time": "2022-11-14T19:28:02.953182Z"
        },
        "id": "7b4eb4e7",
        "outputId": "39850c9c-0994-49bd-ed7b-9a6a42986345"
      },
      "outputs": [
        {
          "name": "stdout",
          "output_type": "stream",
          "text": [
            "<class 'pandas.core.frame.DataFrame'>\n",
            "RangeIndex: 1265 entries, 0 to 1264\n",
            "Data columns (total 5 columns):\n",
            " #   Column                 Non-Null Count  Dtype  \n",
            "---  ------                 --------------  -----  \n",
            " 0   year                   1265 non-null   int64  \n",
            " 1   meso_iso               1265 non-null   object \n",
            " 2   acreage_planted_adm15  1265 non-null   float64\n",
            " 3   production_adm15       1265 non-null   float64\n",
            " 4   yield_adm15            1265 non-null   float64\n",
            "dtypes: float64(3), int64(1), object(1)\n",
            "memory usage: 49.5+ KB\n"
          ]
        }
      ],
      "source": [
        "_bg_adm15_soy.info()"
      ]
    },
    {
      "cell_type": "markdown",
      "id": "fd7b6945",
      "metadata": {
        "id": "fd7b6945"
      },
      "source": [
        "The next step invovled removing the meso-regions with incomplete datasets. Three meso-regions were identified.\n",
        "In order to remove the selective rows from a column ('meso_iso'), the column was set as an index.\n",
        "The selected meso-regions were dropped and then reset_index function was used to bring everything back."
      ]
    },
    {
      "cell_type": "code",
      "execution_count": null,
      "id": "24d278f2",
      "metadata": {
        "ExecuteTime": {
          "end_time": "2022-11-14T19:28:03.667173Z",
          "start_time": "2022-11-14T19:28:03.634596Z"
        },
        "id": "24d278f2"
      },
      "outputs": [],
      "source": [
        "state_list = [\n",
        "    'BR.BA.02','BR.CE.01','BR.MG.03','BR.OTHERS.N','BR.OTHERS.NE','BR.OTHERS.SE', 'BR.SP',\n",
        "    'BR.GO+DF','BR','BR.BA','BR.MA','BR.MG','BR.MS','BR.MT','BR.PA','BR.PR','BR.RS']\n",
        "_bg_adm15_soy = _bg_adm15_soy[~_bg_adm15_soy['meso_iso'].isin(state_list)]\n",
        "_bg_adm15_soy = _bg_adm15_soy[['year','meso_iso','acreage_planted_adm15',\n",
        "                               'production_adm15','yield_adm15']]"
      ]
    },
    {
      "cell_type": "code",
      "execution_count": null,
      "metadata": {
        "id": "W3L83DOHAT_3",
        "outputId": "dc2231c4-450a-4029-9707-71265274ffc0"
      },
      "outputs": [
        {
          "data": {
            "text/plain": [
              "39"
            ]
          },
          "execution_count": 19,
          "metadata": {},
          "output_type": "execute_result"
        }
      ],
      "source": [
        "_bg_adm15_soy.meso_iso.nunique()"
      ],
      "id": "W3L83DOHAT_3"
    },
    {
      "cell_type": "code",
      "execution_count": null,
      "metadata": {
        "id": "6lq-CTBKAT_3",
        "outputId": "7a3d82dc-610e-492e-a225-08f2f4382c3c"
      },
      "outputs": [
        {
          "name": "stdout",
          "output_type": "stream",
          "text": [
            "<class 'pandas.core.frame.DataFrame'>\n",
            "Index: 897 entries, 2 to 1261\n",
            "Data columns (total 5 columns):\n",
            " #   Column                 Non-Null Count  Dtype  \n",
            "---  ------                 --------------  -----  \n",
            " 0   year                   897 non-null    int64  \n",
            " 1   meso_iso               897 non-null    object \n",
            " 2   acreage_planted_adm15  897 non-null    float64\n",
            " 3   production_adm15       897 non-null    float64\n",
            " 4   yield_adm15            897 non-null    float64\n",
            "dtypes: float64(3), int64(1), object(1)\n",
            "memory usage: 42.0+ KB\n"
          ]
        }
      ],
      "source": [
        "_bg_adm15_soy.info()"
      ],
      "id": "6lq-CTBKAT_3"
    },
    {
      "cell_type": "code",
      "execution_count": null,
      "metadata": {
        "id": "iCT4fckrAT_3"
      },
      "outputs": [],
      "source": [
        "_bg_adm15_soy_BR = _bg_adm15_soy.groupby(['year'], as_index=False).sum()[[\n",
        "      'year','production_adm15', 'acreage_planted_adm15']]\n",
        "\n",
        "_bg_adm15_soy_BR['yield_adm15'] = (\n",
        "    _bg_adm15_soy_BR['production_adm15']/_bg_adm15_soy_BR['acreage_planted_adm15'])"
      ],
      "id": "iCT4fckrAT_3"
    },
    {
      "cell_type": "markdown",
      "id": "ce677ee0",
      "metadata": {
        "id": "ce677ee0"
      },
      "source": [
        "# Downscaling"
      ]
    },
    {
      "cell_type": "markdown",
      "id": "108642b2",
      "metadata": {
        "ExecuteTime": {
          "end_time": "2022-10-26T22:56:14.369735Z",
          "start_time": "2022-10-26T22:56:14.360423Z"
        },
        "id": "108642b2"
      },
      "source": [
        "The admin 1.5 level dataset is downscaled to admin 2.0 level during this process."
      ]
    },
    {
      "cell_type": "markdown",
      "id": "9a93372f",
      "metadata": {
        "id": "9a93372f"
      },
      "source": [
        "## Merging adm2 with adm1.5"
      ]
    },
    {
      "cell_type": "markdown",
      "id": "5be2b2d9",
      "metadata": {
        "ExecuteTime": {
          "end_time": "2022-10-26T22:56:15.468751Z",
          "start_time": "2022-10-26T22:56:15.447310Z"
        },
        "id": "5be2b2d9"
      },
      "source": [
        "The first step is merging IBGE admin2 level datasets with Bunge adm1.5 level datasets. model_config was updated very recently (10/20/22)."
      ]
    },
    {
      "cell_type": "code",
      "execution_count": null,
      "id": "82aa9a2c",
      "metadata": {
        "ExecuteTime": {
          "end_time": "2022-11-14T19:28:56.946012Z",
          "start_time": "2022-11-14T19:28:56.881411Z"
        },
        "id": "82aa9a2c"
      },
      "outputs": [],
      "source": [
        "_ds_adm2 = _ibge_adm2_soy_BR.merge(_bg_adm15_soy, on = ['year', 'meso_iso'])"
      ]
    },
    {
      "cell_type": "code",
      "execution_count": null,
      "metadata": {
        "id": "2UA3ScTtAT_4",
        "outputId": "52546709-dc3b-405f-bf09-555fabbf1d38"
      },
      "outputs": [
        {
          "data": {
            "text/html": [
              "<div>\n",
              "<style scoped>\n",
              "    .dataframe tbody tr th:only-of-type {\n",
              "        vertical-align: middle;\n",
              "    }\n",
              "\n",
              "    .dataframe tbody tr th {\n",
              "        vertical-align: top;\n",
              "    }\n",
              "\n",
              "    .dataframe thead th {\n",
              "        text-align: right;\n",
              "    }\n",
              "</style>\n",
              "<table border=\"1\" class=\"dataframe\">\n",
              "  <thead>\n",
              "    <tr style=\"text-align: right;\">\n",
              "      <th></th>\n",
              "      <th>year</th>\n",
              "      <th>state</th>\n",
              "      <th>meso_iso</th>\n",
              "      <th>muni_iso</th>\n",
              "      <th>vector_id</th>\n",
              "      <th>acreage_harvested_adm2</th>\n",
              "      <th>acreage_planted_adm2</th>\n",
              "      <th>production_adm2</th>\n",
              "      <th>yield_adm2</th>\n",
              "      <th>acreage_planted_adm15</th>\n",
              "      <th>production_adm15</th>\n",
              "      <th>yield_adm15</th>\n",
              "    </tr>\n",
              "  </thead>\n",
              "  <tbody>\n",
              "    <tr>\n",
              "      <th>0</th>\n",
              "      <td>2001</td>\n",
              "      <td>TO</td>\n",
              "      <td>BR.TO.01</td>\n",
              "      <td>1716604</td>\n",
              "      <td>1716604</td>\n",
              "      <td>1600.0</td>\n",
              "      <td>1600.0</td>\n",
              "      <td>3040.0</td>\n",
              "      <td>1.9</td>\n",
              "      <td>35.493</td>\n",
              "      <td>83.938</td>\n",
              "      <td>2.364917</td>\n",
              "    </tr>\n",
              "    <tr>\n",
              "      <th>1</th>\n",
              "      <td>2001</td>\n",
              "      <td>TO</td>\n",
              "      <td>BR.TO.01</td>\n",
              "      <td>1703701</td>\n",
              "      <td>1703701</td>\n",
              "      <td>1900.0</td>\n",
              "      <td>1900.0</td>\n",
              "      <td>3990.0</td>\n",
              "      <td>2.1</td>\n",
              "      <td>35.493</td>\n",
              "      <td>83.938</td>\n",
              "      <td>2.364917</td>\n",
              "    </tr>\n",
              "  </tbody>\n",
              "</table>\n",
              "</div>"
            ],
            "text/plain": [
              "   year state  meso_iso  muni_iso  vector_id  acreage_harvested_adm2  \\\n",
              "0  2001    TO  BR.TO.01   1716604    1716604                  1600.0   \n",
              "1  2001    TO  BR.TO.01   1703701    1703701                  1900.0   \n",
              "\n",
              "   acreage_planted_adm2  production_adm2  yield_adm2  acreage_planted_adm15  \\\n",
              "0                1600.0           3040.0         1.9                 35.493   \n",
              "1                1900.0           3990.0         2.1                 35.493   \n",
              "\n",
              "   production_adm15  yield_adm15  \n",
              "0            83.938     2.364917  \n",
              "1            83.938     2.364917  "
            ]
          },
          "execution_count": 64,
          "metadata": {},
          "output_type": "execute_result"
        }
      ],
      "source": [
        "_ds_adm2.head(2)"
      ],
      "id": "2UA3ScTtAT_4"
    },
    {
      "cell_type": "code",
      "execution_count": null,
      "metadata": {
        "id": "LrGO5JJeAT_4",
        "outputId": "ef7536ff-e99e-4f74-aa7a-e5952284dbe6"
      },
      "outputs": [
        {
          "data": {
            "text/plain": [
              "35"
            ]
          },
          "execution_count": 65,
          "metadata": {},
          "output_type": "execute_result"
        }
      ],
      "source": [
        "_ds_adm2.meso_iso.nunique()"
      ],
      "id": "LrGO5JJeAT_4"
    },
    {
      "cell_type": "code",
      "execution_count": null,
      "metadata": {
        "id": "JyEj7CG4AT_5",
        "outputId": "01b09d39-07af-4b1b-aca2-286d9cc0ca54"
      },
      "outputs": [
        {
          "data": {
            "text/plain": [
              "array([2001, 2002, 2003, 2004, 2005, 2006, 2007, 2008, 2009, 2010, 2011,\n",
              "       2012, 2013, 2014, 2015, 2016, 2017, 2018, 2019, 2020])"
            ]
          },
          "execution_count": 69,
          "metadata": {},
          "output_type": "execute_result"
        }
      ],
      "source": [
        "_ds_adm2.year.unique()"
      ],
      "id": "JyEj7CG4AT_5"
    },
    {
      "cell_type": "code",
      "execution_count": null,
      "metadata": {
        "id": "jkqHO_64AT_5",
        "outputId": "1921d749-641c-40c6-d58f-200213523a66"
      },
      "outputs": [
        {
          "data": {
            "text/plain": [
              "Index(['BR.PA.02', 'BR.PA.01'], dtype='object')"
            ]
          },
          "execution_count": 70,
          "metadata": {},
          "output_type": "execute_result"
        }
      ],
      "source": [
        "pd.Index(_ibge_adm2_soy_BR.meso_iso.unique())[pd.Index(_ibge_adm2_soy_BR.meso_iso.unique()).str.contains('PA')]"
      ],
      "id": "jkqHO_64AT_5"
    },
    {
      "cell_type": "markdown",
      "metadata": {
        "id": "b9MJjFC3AT_5"
      },
      "source": [
        "We are missing the meso-region ('BR.PA.03') and 2 years (2021 and 2022) over here."
      ],
      "id": "b9MJjFC3AT_5"
    },
    {
      "cell_type": "markdown",
      "id": "4b419342",
      "metadata": {
        "ExecuteTime": {
          "end_time": "2022-10-26T23:34:51.950637Z",
          "start_time": "2022-10-26T23:34:51.929702Z"
        },
        "id": "4b419342"
      },
      "source": [
        "## Meso-share determination"
      ]
    },
    {
      "cell_type": "markdown",
      "id": "89dd6999",
      "metadata": {
        "id": "89dd6999"
      },
      "source": [
        "Determining the share of 'yield', 'production', and 'acreage_harvested' values during each year and for each MESO REGION."
      ]
    },
    {
      "cell_type": "markdown",
      "id": "21c9fef7",
      "metadata": {
        "id": "21c9fef7"
      },
      "source": [
        "The current dataframe (_ds_adm2) has some parameters that are required from the mesoregion level which are production_adm15, acreage_planted_adm15, and yield_adm15. The mesoregion level datasets provided by Bunge are more accurate than IBGE. The next steps involve comparing the IBGE reported yield at adm2 level (county) with the Bunge reported yield at adm1.5 level (meso-region). In order to achieve that, 'meso_share_acreage_harvested', 'meso_share_production', and 'meso_share_yield' columns will be used."
      ]
    },
    {
      "cell_type": "code",
      "execution_count": null,
      "id": "948a61c7",
      "metadata": {
        "ExecuteTime": {
          "end_time": "2022-11-14T19:28:59.910230Z",
          "start_time": "2022-11-14T19:28:59.864363Z"
        },
        "code_folding": [],
        "id": "948a61c7"
      },
      "outputs": [],
      "source": [
        "_sum_ac = _ds_adm2.groupby(['year','meso_iso'], as_index = False).sum()[[\n",
        "    'year','meso_iso','acreage_harvested_adm2','acreage_planted_adm2','production_adm2']]\n",
        "_sum_ac.rename(columns = {\n",
        "    'acreage_harvested_adm2':'sum_acreage_harvested_adm2',\n",
        "    'acreage_planted_adm2': 'sum_acreage_planted_adm2','production_adm2': 'sum_production_adm2'},inplace = True)"
      ]
    },
    {
      "cell_type": "code",
      "execution_count": null,
      "id": "bb18b1b8",
      "metadata": {
        "ExecuteTime": {
          "end_time": "2022-11-14T19:29:03.965086Z",
          "start_time": "2022-11-14T19:29:03.899362Z"
        },
        "id": "bb18b1b8"
      },
      "outputs": [],
      "source": [
        "new_ds_adm2 = pd.merge(_ds_adm2, _sum_ac, on = ['year', 'meso_iso'])"
      ]
    },
    {
      "cell_type": "markdown",
      "id": "e6d0221d",
      "metadata": {
        "ExecuteTime": {
          "end_time": "2022-10-27T19:22:28.659815Z",
          "start_time": "2022-10-27T19:22:28.653788Z"
        },
        "id": "e6d0221d"
      },
      "source": [
        "Creating a column for the meso_share and determining the meso_shares for harvest, acreage, and yield."
      ]
    },
    {
      "cell_type": "code",
      "execution_count": null,
      "id": "42789890",
      "metadata": {
        "ExecuteTime": {
          "end_time": "2022-11-14T19:29:04.932666Z",
          "start_time": "2022-11-14T19:29:04.872031Z"
        },
        "id": "42789890"
      },
      "outputs": [],
      "source": [
        "new_ds_adm2['meso_share_acreage_harvested'] = new_ds_adm2['acreage_harvested_adm2']/new_ds_adm2['sum_acreage_harvested_adm2']\n",
        "new_ds_adm2['meso_share_acreage_planted'] = new_ds_adm2['acreage_planted_adm2']/new_ds_adm2['sum_acreage_planted_adm2']\n",
        "new_ds_adm2['meso_share_production'] = new_ds_adm2['production_adm2']/new_ds_adm2['sum_production_adm2']"
      ]
    },
    {
      "cell_type": "markdown",
      "id": "fc5ff55c",
      "metadata": {
        "ExecuteTime": {
          "end_time": "2022-10-27T17:37:57.370362Z",
          "start_time": "2022-10-27T17:37:57.325370Z"
        },
        "id": "fc5ff55c"
      },
      "source": [
        "## Downscaling AYP"
      ]
    },
    {
      "cell_type": "code",
      "execution_count": null,
      "id": "a8bdb2f3",
      "metadata": {
        "ExecuteTime": {
          "end_time": "2022-11-14T19:29:14.496443Z",
          "start_time": "2022-11-14T19:29:14.408223Z"
        },
        "id": "a8bdb2f3"
      },
      "outputs": [],
      "source": [
        "updated_ds_adm2 = new_ds_adm2.copy()\n",
        "updated_ds_adm2['downscaled_production'] = updated_ds_adm2['meso_share_production'] \\\n",
        "*updated_ds_adm2['production_adm15']\n",
        "\n",
        "updated_ds_adm2['downscaled_acreage_planted'] = updated_ds_adm2['meso_share_acreage_planted'] \\\n",
        "*updated_ds_adm2['acreage_planted_adm15']\n",
        "\n",
        "updated_ds_adm2['downscaled_acreage_harvested'] = updated_ds_adm2['meso_share_acreage_harvested'] \\\n",
        "*updated_ds_adm2['acreage_planted_adm15']\n",
        "\n",
        "updated_ds_adm2['downscaled_yield'] = \\\n",
        "updated_ds_adm2['downscaled_production']/updated_ds_adm2['downscaled_acreage_harvested']\n",
        "\n",
        "# updated_ds_adm2[updated_ds_adm2['meso_iso'] == 'BR.MS.02'].tail()"
      ]
    },
    {
      "cell_type": "code",
      "execution_count": null,
      "metadata": {
        "id": "0xNPczWtAT_7",
        "outputId": "04e3bb77-9e41-4659-a1f1-d01d1632ae39"
      },
      "outputs": [
        {
          "data": {
            "text/html": [
              "<div>\n",
              "<style scoped>\n",
              "    .dataframe tbody tr th:only-of-type {\n",
              "        vertical-align: middle;\n",
              "    }\n",
              "\n",
              "    .dataframe tbody tr th {\n",
              "        vertical-align: top;\n",
              "    }\n",
              "\n",
              "    .dataframe thead th {\n",
              "        text-align: right;\n",
              "    }\n",
              "</style>\n",
              "<table border=\"1\" class=\"dataframe\">\n",
              "  <thead>\n",
              "    <tr style=\"text-align: right;\">\n",
              "      <th></th>\n",
              "      <th>year</th>\n",
              "      <th>state</th>\n",
              "      <th>meso_iso</th>\n",
              "      <th>muni_iso</th>\n",
              "      <th>vector_id</th>\n",
              "      <th>acreage_harvested_adm2</th>\n",
              "      <th>acreage_planted_adm2</th>\n",
              "      <th>production_adm2</th>\n",
              "      <th>yield_adm2</th>\n",
              "      <th>acreage_planted_adm15</th>\n",
              "      <th>...</th>\n",
              "      <th>sum_acreage_harvested_adm2</th>\n",
              "      <th>sum_acreage_planted_adm2</th>\n",
              "      <th>sum_production_adm2</th>\n",
              "      <th>meso_share_acreage_harvested</th>\n",
              "      <th>meso_share_acreage_planted</th>\n",
              "      <th>meso_share_production</th>\n",
              "      <th>downscaled_production</th>\n",
              "      <th>downscaled_acreage_planted</th>\n",
              "      <th>downscaled_acreage_harvested</th>\n",
              "      <th>downscaled_yield</th>\n",
              "    </tr>\n",
              "  </thead>\n",
              "  <tbody>\n",
              "    <tr>\n",
              "      <th>0</th>\n",
              "      <td>2001</td>\n",
              "      <td>TO</td>\n",
              "      <td>BR.TO.01</td>\n",
              "      <td>1716604</td>\n",
              "      <td>1716604</td>\n",
              "      <td>1600.0</td>\n",
              "      <td>1600.0</td>\n",
              "      <td>3040.0</td>\n",
              "      <td>1.9</td>\n",
              "      <td>35.493</td>\n",
              "      <td>...</td>\n",
              "      <td>35493.0</td>\n",
              "      <td>35493.0</td>\n",
              "      <td>83938.0</td>\n",
              "      <td>0.045079</td>\n",
              "      <td>0.045079</td>\n",
              "      <td>0.036217</td>\n",
              "      <td>3.04</td>\n",
              "      <td>1.6</td>\n",
              "      <td>1.6</td>\n",
              "      <td>1.9</td>\n",
              "    </tr>\n",
              "    <tr>\n",
              "      <th>1</th>\n",
              "      <td>2001</td>\n",
              "      <td>TO</td>\n",
              "      <td>BR.TO.01</td>\n",
              "      <td>1703701</td>\n",
              "      <td>1703701</td>\n",
              "      <td>1900.0</td>\n",
              "      <td>1900.0</td>\n",
              "      <td>3990.0</td>\n",
              "      <td>2.1</td>\n",
              "      <td>35.493</td>\n",
              "      <td>...</td>\n",
              "      <td>35493.0</td>\n",
              "      <td>35493.0</td>\n",
              "      <td>83938.0</td>\n",
              "      <td>0.053532</td>\n",
              "      <td>0.053532</td>\n",
              "      <td>0.047535</td>\n",
              "      <td>3.99</td>\n",
              "      <td>1.9</td>\n",
              "      <td>1.9</td>\n",
              "      <td>2.1</td>\n",
              "    </tr>\n",
              "  </tbody>\n",
              "</table>\n",
              "<p>2 rows × 22 columns</p>\n",
              "</div>"
            ],
            "text/plain": [
              "   year state  meso_iso  muni_iso  vector_id  acreage_harvested_adm2  \\\n",
              "0  2001    TO  BR.TO.01   1716604    1716604                  1600.0   \n",
              "1  2001    TO  BR.TO.01   1703701    1703701                  1900.0   \n",
              "\n",
              "   acreage_planted_adm2  production_adm2  yield_adm2  acreage_planted_adm15  \\\n",
              "0                1600.0           3040.0         1.9                 35.493   \n",
              "1                1900.0           3990.0         2.1                 35.493   \n",
              "\n",
              "   ...  sum_acreage_harvested_adm2  sum_acreage_planted_adm2  \\\n",
              "0  ...                     35493.0                   35493.0   \n",
              "1  ...                     35493.0                   35493.0   \n",
              "\n",
              "   sum_production_adm2  meso_share_acreage_harvested  \\\n",
              "0              83938.0                      0.045079   \n",
              "1              83938.0                      0.053532   \n",
              "\n",
              "   meso_share_acreage_planted  meso_share_production  downscaled_production  \\\n",
              "0                    0.045079               0.036217                   3.04   \n",
              "1                    0.053532               0.047535                   3.99   \n",
              "\n",
              "   downscaled_acreage_planted  downscaled_acreage_harvested  downscaled_yield  \n",
              "0                         1.6                           1.6               1.9  \n",
              "1                         1.9                           1.9               2.1  \n",
              "\n",
              "[2 rows x 22 columns]"
            ]
          },
          "execution_count": 77,
          "metadata": {},
          "output_type": "execute_result"
        }
      ],
      "source": [
        "updated_ds_adm2.head(2)"
      ],
      "id": "0xNPczWtAT_7"
    },
    {
      "cell_type": "code",
      "execution_count": null,
      "metadata": {
        "id": "N5N1UyGHAT_7",
        "outputId": "3b18a05f-942a-425d-b6aa-874aa02d514e"
      },
      "outputs": [
        {
          "data": {
            "text/plain": [
              "35"
            ]
          },
          "execution_count": 79,
          "metadata": {},
          "output_type": "execute_result"
        }
      ],
      "source": [
        "updated_ds_adm2.meso_iso.nunique()"
      ],
      "id": "N5N1UyGHAT_7"
    },
    {
      "cell_type": "markdown",
      "id": "3fe5b036",
      "metadata": {
        "ExecuteTime": {
          "end_time": "2022-10-27T17:38:00.384058Z",
          "start_time": "2022-10-27T17:38:00.330467Z"
        },
        "id": "3fe5b036"
      },
      "source": [
        "## Investigating for consistency"
      ]
    },
    {
      "cell_type": "code",
      "execution_count": null,
      "id": "28aa8eb2",
      "metadata": {
        "ExecuteTime": {
          "end_time": "2022-11-14T19:29:16.204402Z",
          "start_time": "2022-11-14T19:29:16.133325Z"
        },
        "id": "28aa8eb2"
      },
      "outputs": [],
      "source": [
        "sum_ds_adm2 = updated_ds_adm2.groupby(['meso_iso', 'year'],as_index=False)[[\n",
        "    'downscaled_production', 'downscaled_acreage_harvested',\n",
        "    'production_adm2','acreage_harvested_adm2']].sum()\n",
        "\n",
        "sum_ds_adm2['downscaled_yield'] = (\n",
        "    sum_ds_adm2['downscaled_production']/sum_ds_adm2['downscaled_acreage_harvested'])\n",
        "\n",
        "sum_ds_adm2['IBGE_adm2_yield'] = (\n",
        "    sum_ds_adm2['production_adm2']/sum_ds_adm2['acreage_harvested_adm2'])\n",
        "\n",
        "sum_ds_adm2 = pd.merge(sum_ds_adm2,_bg_adm15_soy,  on = ['year','meso_iso'])\n",
        "\n",
        "sum_ds_adm2 = sum_ds_adm2.reindex(columns = ('meso_iso','year','downscaled_acreage_harvested',\n",
        "                                             'downscaled_production', 'production_adm2',\n",
        "                                             'acreage_harvested_adm2', 'acreage_planted_adm15',\n",
        "                                             'production_adm15', 'downscaled_yield',\n",
        "                                             'yield_adm15', 'IBGE_adm2_yield'))\n",
        "# sum_ds_adm2.tail()"
      ]
    },
    {
      "cell_type": "code",
      "execution_count": null,
      "metadata": {
        "id": "9lVXZRHxAT_8",
        "outputId": "daf7f6a7-ca9a-4b99-e8e2-a480af3e929c"
      },
      "outputs": [
        {
          "data": {
            "text/html": [
              "<div>\n",
              "<style scoped>\n",
              "    .dataframe tbody tr th:only-of-type {\n",
              "        vertical-align: middle;\n",
              "    }\n",
              "\n",
              "    .dataframe tbody tr th {\n",
              "        vertical-align: top;\n",
              "    }\n",
              "\n",
              "    .dataframe thead th {\n",
              "        text-align: right;\n",
              "    }\n",
              "</style>\n",
              "<table border=\"1\" class=\"dataframe\">\n",
              "  <thead>\n",
              "    <tr style=\"text-align: right;\">\n",
              "      <th></th>\n",
              "      <th>meso_iso</th>\n",
              "      <th>year</th>\n",
              "      <th>downscaled_acreage_harvested</th>\n",
              "      <th>downscaled_production</th>\n",
              "      <th>production_adm2</th>\n",
              "      <th>acreage_harvested_adm2</th>\n",
              "      <th>acreage_planted_adm15</th>\n",
              "      <th>production_adm15</th>\n",
              "      <th>downscaled_yield</th>\n",
              "      <th>yield_adm15</th>\n",
              "      <th>IBGE_adm2_yield</th>\n",
              "    </tr>\n",
              "  </thead>\n",
              "  <tbody>\n",
              "    <tr>\n",
              "      <th>0</th>\n",
              "      <td>BR.BA.01</td>\n",
              "      <td>2001</td>\n",
              "      <td>690.0</td>\n",
              "      <td>1407.6</td>\n",
              "      <td>1407600.0</td>\n",
              "      <td>690000.0</td>\n",
              "      <td>690.0</td>\n",
              "      <td>1407.6</td>\n",
              "      <td>2.04</td>\n",
              "      <td>2.04</td>\n",
              "      <td>2.04</td>\n",
              "    </tr>\n",
              "    <tr>\n",
              "      <th>1</th>\n",
              "      <td>BR.BA.01</td>\n",
              "      <td>2002</td>\n",
              "      <td>800.0</td>\n",
              "      <td>1464.0</td>\n",
              "      <td>1464000.0</td>\n",
              "      <td>800000.0</td>\n",
              "      <td>800.0</td>\n",
              "      <td>1464.0</td>\n",
              "      <td>1.83</td>\n",
              "      <td>1.83</td>\n",
              "      <td>1.83</td>\n",
              "    </tr>\n",
              "  </tbody>\n",
              "</table>\n",
              "</div>"
            ],
            "text/plain": [
              "   meso_iso  year  downscaled_acreage_harvested  downscaled_production  \\\n",
              "0  BR.BA.01  2001                         690.0                 1407.6   \n",
              "1  BR.BA.01  2002                         800.0                 1464.0   \n",
              "\n",
              "   production_adm2  acreage_harvested_adm2  acreage_planted_adm15  \\\n",
              "0        1407600.0                690000.0                  690.0   \n",
              "1        1464000.0                800000.0                  800.0   \n",
              "\n",
              "   production_adm15  downscaled_yield  yield_adm15  IBGE_adm2_yield  \n",
              "0            1407.6              2.04         2.04             2.04  \n",
              "1            1464.0              1.83         1.83             1.83  "
            ]
          },
          "execution_count": 81,
          "metadata": {},
          "output_type": "execute_result"
        }
      ],
      "source": [
        "sum_ds_adm2.head(2)"
      ],
      "id": "9lVXZRHxAT_8"
    },
    {
      "cell_type": "code",
      "execution_count": null,
      "id": "42688a33",
      "metadata": {
        "ExecuteTime": {
          "end_time": "2022-11-14T19:29:17.387864Z",
          "start_time": "2022-11-14T19:29:17.377133Z"
        },
        "id": "42688a33",
        "outputId": "06a55648-ab6b-45b5-983b-32337a502eb5"
      },
      "outputs": [
        {
          "ename": "",
          "evalue": "",
          "output_type": "error",
          "traceback": [
            "\u001b[1;31mRunning cells with '/bin/python3' requires the ipykernel package.\n",
            "\u001b[1;31mRun the following command to install 'ipykernel' into the Python environment. \n",
            "\u001b[1;31mCommand: '/bin/python3 -m pip install ipykernel -U --user --force-reinstall'"
          ]
        }
      ],
      "source": [
        "sum_ds_adm2['meso_iso'].nunique()"
      ]
    },
    {
      "cell_type": "markdown",
      "id": "eb57b71b",
      "metadata": {
        "ExecuteTime": {
          "end_time": "2022-10-26T23:35:25.972761Z",
          "start_time": "2022-10-26T23:35:25.023885Z"
        },
        "id": "eb57b71b"
      },
      "source": [
        "## Graphing yields"
      ]
    },
    {
      "cell_type": "markdown",
      "id": "fb9ecce4",
      "metadata": {
        "ExecuteTime": {
          "end_time": "2022-10-26T23:27:18.373356Z",
          "start_time": "2022-10-26T23:27:18.357468Z"
        },
        "id": "fb9ecce4"
      },
      "source": [
        "Keeping only the columns from the _ds_adm2 which are required, i.e.,adm1.5 adjusted yield and true adm2 yield."
      ]
    },
    {
      "cell_type": "code",
      "execution_count": null,
      "id": "8f4fa074",
      "metadata": {
        "ExecuteTime": {
          "end_time": "2022-11-14T19:29:21.069014Z",
          "start_time": "2022-11-14T19:29:21.021141Z"
        },
        "id": "8f4fa074",
        "outputId": "86e9d93e-db3e-4c36-c726-133d0113eaf8"
      },
      "outputs": [
        {
          "ename": "",
          "evalue": "",
          "output_type": "error",
          "traceback": [
            "\u001b[1;31mRunning cells with '/bin/python3' requires the ipykernel package.\n",
            "\u001b[1;31mRun the following command to install 'ipykernel' into the Python environment. \n",
            "\u001b[1;31mCommand: '/bin/python3 -m pip install ipykernel -U --user --force-reinstall'"
          ]
        }
      ],
      "source": [
        "sum_ds_adm2_1 = sum_ds_adm2.groupby('year', as_index=False).sum()[[\n",
        "    'year','downscaled_acreage_harvested','downscaled_production',\n",
        "    'production_adm2','acreage_harvested_adm2']]\n",
        "\n",
        "sum_ds_adm2_1 ['downscaled_yield'] = (\n",
        "    sum_ds_adm2_1['downscaled_production']/sum_ds_adm2_1['downscaled_acreage_harvested'])\n",
        "\n",
        "sum_ds_adm2_1['IBGE_adm2_yield'] = (\n",
        "    sum_ds_adm2_1['production_adm2']/sum_ds_adm2_1['acreage_harvested_adm2'])\n",
        "\n",
        "sum_ds_adm2_1 = pd.merge(sum_ds_adm2_1,_bg_adm15_soy_BR,  on = ['year'])\n",
        "\n",
        "sum_ds_adm2_1 = sum_ds_adm2_1.reindex(columns = ('year','IBGE_adm2_yield',\n",
        "                                                 'yield_adm15','downscaled_yield'))"
      ]
    },
    {
      "cell_type": "code",
      "execution_count": null,
      "id": "cd8cdee9",
      "metadata": {
        "ExecuteTime": {
          "end_time": "2022-11-14T19:29:37.823336Z",
          "start_time": "2022-11-14T19:29:37.413276Z"
        },
        "id": "cd8cdee9",
        "outputId": "a25baccc-55e6-483d-abfc-e3df501ef8ee"
      },
      "outputs": [
        {
          "data": {
            "image/png": "[encoded data removed]",
            "text/plain": [
              "<Figure size 750x500 with 1 Axes>"
            ]
          },
          "metadata": {},
          "output_type": "display_data"
        }
      ],
      "source": [
        "fig, ax = plt.subplots(figsize = (7.5, 5))\n",
        "plt.plot('year', 'IBGE_adm2_yield', data = sum_ds_adm2_1, marker = 'o', linestyle = '--', label = 'Yield_adm2', color = 'C1')\n",
        "plt.plot('year', 'yield_adm15', data = sum_ds_adm2_1, marker = 'o', linestyle = '--', label = 'Yield_adm15', color = 'C2')\n",
        "plt.plot('year', 'downscaled_yield', data = sum_ds_adm2_1, marker = 'o', linestyle = '--', label = 'Yield_downscaled',\n",
        "         color = 'C3')\n",
        "ax.set(xlim = [2000, 2023], ylim = [2,4], xlabel = 'Harvested Year', ylabel = 'Yield (mt/ha)')\n",
        "ax.grid()\n",
        "plt.legend()\n",
        "plt.show()"
      ]
    },
    {
      "cell_type": "code",
      "execution_count": null,
      "id": "5919dc4e",
      "metadata": {
        "ExecuteTime": {
          "end_time": "2022-11-14T18:32:13.912086Z",
          "start_time": "2022-11-14T18:32:13.871921Z"
        },
        "id": "5919dc4e"
      },
      "outputs": [],
      "source": [
        "sum_ds_adm2_2 = sum_ds_adm2[sum_ds_adm2['meso_iso'] == 'BR.GO.02']\n",
        "sum_ds_adm2_3 = sum_ds_adm2_2.groupby(['year'], as_index=False)[[\n",
        "    'downscaled_yield','yield_adm15','IBGE_adm2_yield']].sum()"
      ]
    },
    {
      "cell_type": "code",
      "execution_count": null,
      "id": "b1d36c52",
      "metadata": {
        "ExecuteTime": {
          "end_time": "2022-11-14T18:32:17.455353Z",
          "start_time": "2022-11-14T18:32:17.130899Z"
        },
        "id": "b1d36c52",
        "outputId": "da1ecc5a-b645-4a9d-cc40-8bbfcd875b66"
      },
      "outputs": [
        {
          "data": {
            "image/png": "[encoded data removed]",
            "text/plain": [
              "<Figure size 750x500 with 1 Axes>"
            ]
          },
          "metadata": {},
          "output_type": "display_data"
        }
      ],
      "source": [
        "fig, ax = plt.subplots(figsize = (7.5, 5))\n",
        "plt.plot('year', 'IBGE_adm2_yield', data = sum_ds_adm2_3, marker = 'o', linestyle = '--', label = 'Yield_adm2', color = 'C1')\n",
        "plt.plot('year', 'yield_adm15', data = sum_ds_adm2_3, marker = 'o', linestyle = '--', label = 'Yield_adm15', color = 'C2')\n",
        "plt.plot('year', 'downscaled_yield', data = sum_ds_adm2_3, marker = 'o', linestyle = '--', label = 'Yield_downscaled',\n",
        "         color = 'C3')\n",
        "ax.set(xlim = [2000, 2023], ylim = [0, 6], xlabel = 'Harvested Year', ylabel = 'Yield (mt/ha)')\n",
        "ax.grid()\n",
        "plt.legend()\n",
        "plt.show()"
      ]
    },
    {
      "cell_type": "markdown",
      "id": "d5a4ea4d",
      "metadata": {
        "id": "d5a4ea4d"
      },
      "source": [
        "# HP Trend"
      ]
    },
    {
      "cell_type": "markdown",
      "id": "b925aa03",
      "metadata": {
        "id": "b925aa03"
      },
      "source": [
        "This procedure begins with creating a copy of the last updated dataframe and then performing operations."
      ]
    },
    {
      "cell_type": "code",
      "execution_count": null,
      "id": "55dc13ae",
      "metadata": {
        "ExecuteTime": {
          "end_time": "2022-11-14T15:41:13.941072Z",
          "start_time": "2022-11-14T15:41:13.925460Z"
        },
        "id": "55dc13ae"
      },
      "outputs": [],
      "source": [
        "df_dwnscl = updated_ds_adm2.copy()\n",
        "df_dwnscl = df_dwnscl.reindex(columns = ('year','meso_iso', 'muni_iso','downscaled_production',\n",
        "                                         'downscaled_acreage_harvested', 'downscaled_yield'))"
      ]
    },
    {
      "cell_type": "markdown",
      "id": "fb877791",
      "metadata": {
        "id": "fb877791"
      },
      "source": [
        "## Data Visualization"
      ]
    },
    {
      "cell_type": "markdown",
      "id": "f3c1b41e",
      "metadata": {
        "id": "f3c1b41e"
      },
      "source": [
        "Visualization is the most effective method to demonstrate the distribution of sample, along with accessing and understanding the sample size."
      ]
    },
    {
      "cell_type": "code",
      "execution_count": null,
      "id": "2446e466",
      "metadata": {
        "ExecuteTime": {
          "end_time": "2022-11-14T15:41:14.354618Z",
          "start_time": "2022-11-14T15:41:13.943269Z"
        },
        "id": "2446e466",
        "outputId": "0af23b6d-ecd4-4258-8846-28583978c735"
      },
      "outputs": [
        {
          "data": {
            "image/png": "[encoded data removed]",
            "text/plain": [
              "<Figure size 750x300 with 1 Axes>"
            ]
          },
          "metadata": {},
          "output_type": "display_data"
        }
      ],
      "source": [
        "fig, ax = plt.subplots(figsize = (7.5, 3))\n",
        "ax.grid()\n",
        "ax.set(title = 'Distribution of adm2 Downscaled Yield for Soybean',\n",
        "       xlabel = 'Downscaled yield (in mt/hectares)', ylabel = 'Count')\n",
        "sns.histplot(data = df_dwnscl, x = 'downscaled_yield' , bins = 30)\n",
        "plt.show()"
      ]
    },
    {
      "cell_type": "code",
      "execution_count": null,
      "id": "8e46875c",
      "metadata": {
        "ExecuteTime": {
          "end_time": "2022-11-14T15:41:14.791759Z",
          "start_time": "2022-11-14T15:41:14.357186Z"
        },
        "id": "8e46875c",
        "outputId": "57a76486-2935-4beb-ed90-b2e3c11a0e67"
      },
      "outputs": [
        {
          "data": {
            "image/png": "[encoded data removed]",
            "text/plain": [
              "<Figure size 750x300 with 1 Axes>"
            ]
          },
          "metadata": {},
          "output_type": "display_data"
        }
      ],
      "source": [
        "fig, ax = plt.subplots(figsize = (7.5, 3))\n",
        "plt.scatter('year', 'downscaled_yield', data = df_dwnscl, marker = 'o'\n",
        "         , label = 'Adm2 downscaled yield', color = 'C1')\n",
        "\n",
        "ax.set(xlim = [2000, 2023], ylim = [-2,14], xlabel = 'Harvested Year',\n",
        "       ylabel = 'Downscaled yield (in mt/hectares)',\n",
        "       title = 'Distribution of adm2 Downscaled Yield for Soybean')\n",
        "ax.grid()\n",
        "plt.legend()\n",
        "plt.show()"
      ]
    },
    {
      "cell_type": "code",
      "execution_count": null,
      "id": "8aa5ec28",
      "metadata": {
        "ExecuteTime": {
          "end_time": "2022-11-14T15:41:15.488719Z",
          "start_time": "2022-11-14T15:41:14.794040Z"
        },
        "id": "8aa5ec28",
        "outputId": "e394f4de-e05f-4b31-a0a8-8b111f17bf23"
      },
      "outputs": [
        {
          "data": {
            "image/png": "[encoded data removed]",
            "text/plain": [
              "<Figure size 1000x500 with 1 Axes>"
            ]
          },
          "metadata": {},
          "output_type": "display_data"
        }
      ],
      "source": [
        "fig, ax = plt.subplots(figsize = (10, 5))\n",
        "sns.boxplot(data = df_dwnscl, x = 'year', y = 'downscaled_yield')\n",
        "ax.set(title = 'Boxplot of the adm2 Downscaled Yield Distribution for Soybean',\n",
        "       xlabel = 'Harvested Year', ylabel = 'Yield (in mt/hectares)')\n",
        "plt.tight_layout()"
      ]
    },
    {
      "cell_type": "markdown",
      "id": "07291501",
      "metadata": {
        "id": "07291501"
      },
      "source": [
        "## Filtering out outliers"
      ]
    },
    {
      "cell_type": "markdown",
      "id": "d545d45e",
      "metadata": {
        "id": "d545d45e"
      },
      "source": [
        "The step of filtering is a critical step and it involves removing the redundant and unrealistic datasets. The reported yield over 5 mt/ha for a county is unrealistic and should be removed as a part of the filtering process."
      ]
    },
    {
      "cell_type": "code",
      "execution_count": null,
      "id": "00e15b12",
      "metadata": {
        "ExecuteTime": {
          "end_time": "2022-11-14T15:41:15.500156Z",
          "start_time": "2022-11-14T15:41:15.491968Z"
        },
        "id": "00e15b12",
        "outputId": "234d9507-6ada-497b-bc6a-5a11b95b7f03"
      },
      "outputs": [
        {
          "name": "stdout",
          "output_type": "stream",
          "text": [
            "It was observed that there were 32 data points where the downscaled yield was above 5 mt/hectares.\n"
          ]
        }
      ],
      "source": [
        "print(\"It was observed that there were \" + str(\n",
        "    len(df_dwnscl[df_dwnscl['downscaled_yield']>=5])) +\n",
        "      \" data points where the downscaled yield was above 5 mt/hectares.\")"
      ]
    },
    {
      "cell_type": "code",
      "execution_count": null,
      "id": "2d311360",
      "metadata": {
        "ExecuteTime": {
          "end_time": "2022-11-14T15:41:15.633591Z",
          "start_time": "2022-11-14T15:41:15.502888Z"
        },
        "id": "2d311360",
        "outputId": "e0923e2a-71c6-4b92-c2dd-704da6d9ca64"
      },
      "outputs": [
        {
          "name": "stdout",
          "output_type": "stream",
          "text": [
            "<class 'pandas.core.frame.DataFrame'>\n",
            "Index: 38411 entries, 0 to 38467\n",
            "Data columns (total 6 columns):\n",
            " #   Column                        Non-Null Count  Dtype  \n",
            "---  ------                        --------------  -----  \n",
            " 0   year                          38411 non-null  int64  \n",
            " 1   meso_iso                      38411 non-null  object \n",
            " 2   muni_iso                      38411 non-null  int64  \n",
            " 3   downscaled_production         38411 non-null  float64\n",
            " 4   downscaled_acreage_harvested  38411 non-null  float64\n",
            " 5   downscaled_yield              38411 non-null  float64\n",
            "dtypes: float64(3), int64(2), object(1)\n",
            "memory usage: 2.1+ MB\n"
          ]
        }
      ],
      "source": [
        "df_filtered_ = df_dwnscl[df_dwnscl['downscaled_yield']<5]\n",
        "df_filtered_.info()"
      ]
    },
    {
      "cell_type": "code",
      "execution_count": null,
      "id": "e31a2ee7",
      "metadata": {
        "ExecuteTime": {
          "end_time": "2022-11-14T15:41:15.715266Z",
          "start_time": "2022-11-14T15:41:15.637196Z"
        },
        "id": "e31a2ee7",
        "outputId": "204e1382-48d5-4959-f58e-5813f8f561a8"
      },
      "outputs": [
        {
          "data": {
            "text/html": [
              "<div>\n",
              "<style scoped>\n",
              "    .dataframe tbody tr th:only-of-type {\n",
              "        vertical-align: middle;\n",
              "    }\n",
              "\n",
              "    .dataframe tbody tr th {\n",
              "        vertical-align: top;\n",
              "    }\n",
              "\n",
              "    .dataframe thead th {\n",
              "        text-align: right;\n",
              "    }\n",
              "</style>\n",
              "<table border=\"1\" class=\"dataframe\">\n",
              "  <thead>\n",
              "    <tr style=\"text-align: right;\">\n",
              "      <th></th>\n",
              "      <th>year</th>\n",
              "      <th>meso_iso</th>\n",
              "      <th>muni_iso</th>\n",
              "      <th>downscaled_production</th>\n",
              "      <th>downscaled_acreage_harvested</th>\n",
              "      <th>downscaled_yield</th>\n",
              "    </tr>\n",
              "  </thead>\n",
              "  <tbody>\n",
              "    <tr>\n",
              "      <th>0</th>\n",
              "      <td>2001</td>\n",
              "      <td>BR.TO.01</td>\n",
              "      <td>1716604</td>\n",
              "      <td>3.04</td>\n",
              "      <td>1.6</td>\n",
              "      <td>1.9</td>\n",
              "    </tr>\n",
              "    <tr>\n",
              "      <th>1</th>\n",
              "      <td>2001</td>\n",
              "      <td>BR.TO.01</td>\n",
              "      <td>1703701</td>\n",
              "      <td>3.99</td>\n",
              "      <td>1.9</td>\n",
              "      <td>2.1</td>\n",
              "    </tr>\n",
              "  </tbody>\n",
              "</table>\n",
              "</div>"
            ],
            "text/plain": [
              "   year  meso_iso  muni_iso  downscaled_production  \\\n",
              "0  2001  BR.TO.01   1716604                   3.04   \n",
              "1  2001  BR.TO.01   1703701                   3.99   \n",
              "\n",
              "   downscaled_acreage_harvested  downscaled_yield  \n",
              "0                           1.6               1.9  \n",
              "1                           1.9               2.1  "
            ]
          },
          "execution_count": 117,
          "metadata": {},
          "output_type": "execute_result"
        }
      ],
      "source": [
        "df_filtered_.head(2)"
      ]
    },
    {
      "cell_type": "markdown",
      "id": "3271e654",
      "metadata": {
        "id": "3271e654"
      },
      "source": [
        "## Filtering out muni-isos with limited dataset"
      ]
    },
    {
      "cell_type": "markdown",
      "id": "1f9b2611",
      "metadata": {
        "id": "1f9b2611"
      },
      "source": [
        "Determining the number of years of dataset which is available for each of the counties."
      ]
    },
    {
      "cell_type": "markdown",
      "id": "a5c08286",
      "metadata": {
        "ExecuteTime": {
          "end_time": "2022-11-10T18:35:06.463030Z",
          "start_time": "2022-11-10T18:35:06.453017Z"
        },
        "id": "a5c08286"
      },
      "source": [
        "Question: Do we want to consider the counties which have available datasets for 10 years or over?! WHY?!"
      ]
    },
    {
      "cell_type": "markdown",
      "id": "6bd4e0f3",
      "metadata": {
        "id": "6bd4e0f3"
      },
      "source": [
        "The _count dataframe will determine the number of years of dataset available for each county and then the bar plot will show the number of counties with the number of years of datasets."
      ]
    },
    {
      "cell_type": "code",
      "execution_count": null,
      "id": "7a0d35ba",
      "metadata": {
        "ExecuteTime": {
          "end_time": "2022-11-14T15:41:16.147822Z",
          "start_time": "2022-11-14T15:41:15.718742Z"
        },
        "id": "7a0d35ba",
        "outputId": "642d3fda-d65c-4630-b397-a67cd13cc65d"
      },
      "outputs": [
        {
          "data": {
            "image/png": "[encoded data removed]",
            "text/plain": [
              "<Figure size 600x300 with 1 Axes>"
            ]
          },
          "metadata": {},
          "output_type": "display_data"
        }
      ],
      "source": [
        "_count = df_filtered_.groupby(['muni_iso']).count().reset_index()\n",
        "# _count.head()\n",
        "fig, ax = plt.subplots(figsize = (6, 3))\n",
        "ax.hist(_count['downscaled_yield'], bins = 30)\n",
        "ax.grid()\n",
        "ax.set(xlabel = 'Number of Years for available datasets', ylabel = 'Number of Counties')\n",
        "ax.axvline(x = 10, color = 'black', linestyle = '--')\n",
        "ax.xaxis.set_major_locator(MaxNLocator(integer=True))\n",
        "plt.show()"
      ]
    },
    {
      "cell_type": "markdown",
      "id": "78adc813",
      "metadata": {
        "id": "78adc813"
      },
      "source": [
        "Number of counties for which we have over 10 years of datasets. '_count_10' is an array for all the muni_iso's with over 10 years of datasets."
      ]
    },
    {
      "cell_type": "code",
      "execution_count": null,
      "id": "855ed0e5",
      "metadata": {
        "ExecuteTime": {
          "end_time": "2022-11-14T15:41:16.160217Z",
          "start_time": "2022-11-14T15:41:16.150835Z"
        },
        "id": "855ed0e5",
        "outputId": "82597270-5dc8-4b2c-f9e5-ebf935c989a7"
      },
      "outputs": [
        {
          "data": {
            "text/plain": [
              "1918"
            ]
          },
          "execution_count": 119,
          "metadata": {},
          "output_type": "execute_result"
        }
      ],
      "source": [
        "_count_10 = _count[_count['year'] >= 10]['muni_iso'].unique()\n",
        "len(_count_10)"
      ]
    },
    {
      "cell_type": "code",
      "execution_count": null,
      "id": "bc15f5a8",
      "metadata": {
        "ExecuteTime": {
          "end_time": "2022-11-14T15:41:16.255167Z",
          "start_time": "2022-11-14T15:41:16.162927Z"
        },
        "id": "bc15f5a8"
      },
      "outputs": [],
      "source": [
        "hp_filtered = df_filtered_[df_filtered_['muni_iso'].isin(_count_10)]"
      ]
    },
    {
      "cell_type": "markdown",
      "id": "fe578920",
      "metadata": {
        "id": "fe578920"
      },
      "source": [
        "## Calculating the HP trend"
      ]
    },
    {
      "cell_type": "markdown",
      "id": "8d4b2834",
      "metadata": {
        "id": "8d4b2834"
      },
      "source": [
        "Yield cycle and yield trend for the adm2 downscaled yield was determined during this process."
      ]
    },
    {
      "cell_type": "code",
      "execution_count": null,
      "id": "4750eb91",
      "metadata": {
        "ExecuteTime": {
          "end_time": "2022-11-14T15:41:16.382915Z",
          "start_time": "2022-11-14T15:41:16.258960Z"
        },
        "id": "4750eb91",
        "outputId": "1068f30b-e31f-4f54-c436-9624da539da6"
      },
      "outputs": [
        {
          "data": {
            "text/plain": [
              "array([1716604, 1703701, 1718204, ..., 1505031, 1505650, 1506195])"
            ]
          },
          "execution_count": 121,
          "metadata": {},
          "output_type": "execute_result"
        }
      ],
      "source": [
        "county_list = hp_filtered['muni_iso'].unique()\n",
        "county_list"
      ]
    },
    {
      "cell_type": "code",
      "execution_count": null,
      "id": "4f535dce",
      "metadata": {
        "ExecuteTime": {
          "end_time": "2022-11-14T15:41:16.606010Z",
          "start_time": "2022-11-14T15:41:16.386618Z"
        },
        "id": "4f535dce"
      },
      "outputs": [],
      "source": [
        "hp_trend = pd.DataFrame()\n",
        "\n",
        "for i in county_list:\n",
        "    df_temp = hp_filtered[hp_filtered['muni_iso']==i]\n",
        "\n",
        "    yield_cycle, yield_trend = hpfilter(df_temp['downscaled_yield'],lamb=500)\n",
        "    df_temp['hp_yield_cycle'] = yield_cycle\n",
        "    df_temp['hp_yield_trend'] = yield_trend\n",
        "    df_temp['hp_length'] = len(df_temp)\n",
        "\n",
        "    hp_trend = pd.concat([hp_trend,df_temp], axis=0)"
      ]
    },
    {
      "cell_type": "code",
      "execution_count": null,
      "id": "e25413e9",
      "metadata": {
        "ExecuteTime": {
          "end_time": "2022-11-14T15:41:16.611664Z",
          "start_time": "2022-11-14T15:41:16.611640Z"
        },
        "id": "e25413e9",
        "outputId": "5826d2f4-441a-4c44-e6e3-3ace4fcac55e"
      },
      "outputs": [
        {
          "data": {
            "text/html": [
              "<div>\n",
              "<style scoped>\n",
              "    .dataframe tbody tr th:only-of-type {\n",
              "        vertical-align: middle;\n",
              "    }\n",
              "\n",
              "    .dataframe tbody tr th {\n",
              "        vertical-align: top;\n",
              "    }\n",
              "\n",
              "    .dataframe thead th {\n",
              "        text-align: right;\n",
              "    }\n",
              "</style>\n",
              "<table border=\"1\" class=\"dataframe\">\n",
              "  <thead>\n",
              "    <tr style=\"text-align: right;\">\n",
              "      <th></th>\n",
              "      <th>year</th>\n",
              "      <th>meso_iso</th>\n",
              "      <th>muni_iso</th>\n",
              "      <th>downscaled_production</th>\n",
              "      <th>downscaled_acreage_harvested</th>\n",
              "      <th>downscaled_yield</th>\n",
              "      <th>hp_yield_cycle</th>\n",
              "      <th>hp_yield_trend</th>\n",
              "      <th>hp_length</th>\n",
              "      <th>hp_production</th>\n",
              "      <th>ds_minus_hp_yield</th>\n",
              "    </tr>\n",
              "  </thead>\n",
              "  <tbody>\n",
              "    <tr>\n",
              "      <th>38429</th>\n",
              "      <td>2016</td>\n",
              "      <td>BR.PA.02</td>\n",
              "      <td>1506195</td>\n",
              "      <td>1.994175</td>\n",
              "      <td>1.399954</td>\n",
              "      <td>1.424457</td>\n",
              "      <td>-0.863086</td>\n",
              "      <td>2.287543</td>\n",
              "      <td>13</td>\n",
              "      <td>3.202456</td>\n",
              "      <td>-0.863086</td>\n",
              "    </tr>\n",
              "    <tr>\n",
              "      <th>38437</th>\n",
              "      <td>2017</td>\n",
              "      <td>BR.PA.02</td>\n",
              "      <td>1506195</td>\n",
              "      <td>0.952978</td>\n",
              "      <td>0.674630</td>\n",
              "      <td>1.412593</td>\n",
              "      <td>-0.792264</td>\n",
              "      <td>2.204857</td>\n",
              "      <td>13</td>\n",
              "      <td>1.487462</td>\n",
              "      <td>-0.792264</td>\n",
              "    </tr>\n",
              "    <tr>\n",
              "      <th>38445</th>\n",
              "      <td>2018</td>\n",
              "      <td>BR.PA.02</td>\n",
              "      <td>1506195</td>\n",
              "      <td>2.200464</td>\n",
              "      <td>1.523050</td>\n",
              "      <td>1.444775</td>\n",
              "      <td>-0.683567</td>\n",
              "      <td>2.128342</td>\n",
              "      <td>13</td>\n",
              "      <td>3.241570</td>\n",
              "      <td>-0.683567</td>\n",
              "    </tr>\n",
              "    <tr>\n",
              "      <th>38455</th>\n",
              "      <td>2019</td>\n",
              "      <td>BR.PA.02</td>\n",
              "      <td>1506195</td>\n",
              "      <td>0.990805</td>\n",
              "      <td>0.675319</td>\n",
              "      <td>1.467166</td>\n",
              "      <td>-0.590080</td>\n",
              "      <td>2.057246</td>\n",
              "      <td>13</td>\n",
              "      <td>1.389297</td>\n",
              "      <td>-0.590080</td>\n",
              "    </tr>\n",
              "    <tr>\n",
              "      <th>38465</th>\n",
              "      <td>2020</td>\n",
              "      <td>BR.PA.02</td>\n",
              "      <td>1506195</td>\n",
              "      <td>2.259828</td>\n",
              "      <td>0.620962</td>\n",
              "      <td>3.639238</td>\n",
              "      <td>1.649789</td>\n",
              "      <td>1.989449</td>\n",
              "      <td>13</td>\n",
              "      <td>1.235372</td>\n",
              "      <td>1.649789</td>\n",
              "    </tr>\n",
              "  </tbody>\n",
              "</table>\n",
              "</div>"
            ],
            "text/plain": [
              "       year  meso_iso  muni_iso  downscaled_production  \\\n",
              "38429  2016  BR.PA.02   1506195               1.994175   \n",
              "38437  2017  BR.PA.02   1506195               0.952978   \n",
              "38445  2018  BR.PA.02   1506195               2.200464   \n",
              "38455  2019  BR.PA.02   1506195               0.990805   \n",
              "38465  2020  BR.PA.02   1506195               2.259828   \n",
              "\n",
              "       downscaled_acreage_harvested  downscaled_yield  hp_yield_cycle  \\\n",
              "38429                      1.399954          1.424457       -0.863086   \n",
              "38437                      0.674630          1.412593       -0.792264   \n",
              "38445                      1.523050          1.444775       -0.683567   \n",
              "38455                      0.675319          1.467166       -0.590080   \n",
              "38465                      0.620962          3.639238        1.649789   \n",
              "\n",
              "       hp_yield_trend  hp_length  hp_production  ds_minus_hp_yield  \n",
              "38429        2.287543         13       3.202456          -0.863086  \n",
              "38437        2.204857         13       1.487462          -0.792264  \n",
              "38445        2.128342         13       3.241570          -0.683567  \n",
              "38455        2.057246         13       1.389297          -0.590080  \n",
              "38465        1.989449         13       1.235372           1.649789  "
            ]
          },
          "execution_count": 134,
          "metadata": {},
          "output_type": "execute_result"
        }
      ],
      "source": [
        "hp_trend ['hp_production'] = hp_trend[\n",
        "    'hp_yield_trend'] * hp_trend['downscaled_acreage_harvested']\n",
        "\n",
        "hp_trend ['ds_minus_hp_yield'] = hp_trend[\n",
        "    'downscaled_yield'] - hp_trend['hp_yield_trend']\n",
        "\n",
        "hp_trend.tail()"
      ]
    },
    {
      "cell_type": "markdown",
      "id": "ae880403",
      "metadata": {
        "id": "ae880403"
      },
      "source": [
        "## Plotting HP trend"
      ]
    },
    {
      "cell_type": "code",
      "execution_count": null,
      "id": "92caa29d",
      "metadata": {
        "ExecuteTime": {
          "end_time": "2022-11-14T15:41:16.613942Z",
          "start_time": "2022-11-14T15:41:16.613917Z"
        },
        "id": "92caa29d"
      },
      "outputs": [],
      "source": [
        "hp_national = hp_trend.copy()\n",
        "hp_national = hp_national.groupby(['year'], as_index=False)[[\n",
        "    'downscaled_production','downscaled_acreage_harvested','hp_production']].sum()\n",
        "hp_national['hp_yield'] = hp_national[\n",
        "    'hp_production']/hp_national['downscaled_acreage_harvested']\n",
        "\n",
        "hp_national['national_grids_yield'] = hp_national[\n",
        "    'downscaled_production']/hp_national['downscaled_acreage_harvested']"
      ]
    },
    {
      "cell_type": "code",
      "execution_count": null,
      "id": "416a68be",
      "metadata": {
        "ExecuteTime": {
          "end_time": "2022-11-14T15:41:16.615988Z",
          "start_time": "2022-11-14T15:41:16.615963Z"
        },
        "id": "416a68be",
        "outputId": "94c068ab-e2a7-4f0c-961c-1f253d8fcf4f"
      },
      "outputs": [
        {
          "data": {
            "image/png": "[encoded data removed]",
            "text/plain": [
              "<Figure size 900x600 with 1 Axes>"
            ]
          },
          "metadata": {},
          "output_type": "display_data"
        }
      ],
      "source": [
        "fig, ax = plt.subplots(figsize = (9, 6))\n",
        "\n",
        "plt.plot('year', 'hp_yield', data = hp_national, marker = 'o',\n",
        "         linestyle = '--', label = 'National HP Trend Yield', color = 'C1')\n",
        "\n",
        "plt.plot('year', 'national_grids_yield', data = hp_national, marker = 'o',\n",
        "         linestyle = '--', label = 'National Grids Yield', color = 'C2')\n",
        "\n",
        "ax.set(title = \"Evolution of National Yield for Soybean in Brazil through 2001 - 2021\",\n",
        "       xlim = [2000, 2023], ylim = [2.0, 3.8],\n",
        "       xlabel = 'Harvested Year', ylabel = 'Yield (mt/ha)')\n",
        "plt.grid()\n",
        "plt.legend()\n",
        "plt.show()"
      ]
    },
    {
      "cell_type": "markdown",
      "id": "7e30a90c",
      "metadata": {
        "id": "7e30a90c"
      },
      "source": [
        "## Statistics of trend deviation at national level"
      ]
    },
    {
      "cell_type": "markdown",
      "id": "fe6bd079",
      "metadata": {
        "ExecuteTime": {
          "end_time": "2022-11-10T21:09:06.386866Z",
          "start_time": "2022-11-10T21:09:06.377202Z"
        },
        "id": "fe6bd079"
      },
      "source": [
        "At this point, it is beneficial to import a function from feature selection utility at the bunge.dsci directory. The feature selection has already been imported as bfs. This function 'n_weighted_moment' from this utility gives out the weighted average, weighted standard deviation, weighted skewness, and weighted skewness from a dataframe. The inputs for the 'n_weighted_moment' function are var1 (whose descriptive stats has to be reported), var2 (around whom the weights will be determined), and n (1,2,3,4)."
      ]
    },
    {
      "cell_type": "code",
      "execution_count": null,
      "id": "2f4da0f5",
      "metadata": {
        "ExecuteTime": {
          "end_time": "2022-11-14T15:41:16.617919Z",
          "start_time": "2022-11-14T15:41:16.617895Z"
        },
        "id": "2f4da0f5"
      },
      "outputs": [],
      "source": [
        "trend_plot = hp_trend.copy()\n",
        "var1 = trend_plot['ds_minus_hp_yield']\n",
        "var2 = trend_plot['downscaled_acreage_harvested']\n",
        "\n",
        "weighted_average = round(bfs.n_weighted_moment(var1, weights=var2, n=1),2)\n",
        "weighted_std = round(bfs.n_weighted_moment(var1, weights=var2, n=2),2)\n",
        "weighted_skew = round(bfs.n_weighted_moment(var1, weights=var2, n=3),2)\n",
        "weighted_kurt = round(bfs.n_weighted_moment(var1, weights=var2, n=4),2)\n",
        "n = var1.count()"
      ]
    },
    {
      "cell_type": "code",
      "execution_count": null,
      "id": "2269c439",
      "metadata": {
        "ExecuteTime": {
          "end_time": "2022-11-14T15:41:16.620470Z",
          "start_time": "2022-11-14T15:41:16.620446Z"
        },
        "id": "2269c439",
        "outputId": "f436b308-6842-4aa8-b849-73aee2c18423"
      },
      "outputs": [
        {
          "data": {
            "image/png": "[encoded data removed]",
            "text/plain": [
              "<Figure size 900x450 with 1 Axes>"
            ]
          },
          "metadata": {},
          "output_type": "display_data"
        },
        {
          "name": "stdout",
          "output_type": "stream",
          "text": [
            "The kurtosis of the normal distribution for the yield deviation is: 5.42\n",
            "The skewness of the normal distribution for the yield deviation is: -0.87\n",
            "The standard deviation for the yield deviation is: 0.45\n",
            "The mean for the yield deviation is: 0.01\n"
          ]
        }
      ],
      "source": [
        "fig, ax = plt.subplots(figsize = (9, 4.5))\n",
        "\n",
        "ax.hist(var1, bins = 50, weights = var2)\n",
        "\n",
        "ax.grid()\n",
        "\n",
        "ax.plot([],[], label = str(f'Weighted Kurtosis = {weighted_kurt}'), alpha=0)\n",
        "ax.plot([],[], label = str(f'Weighted Skewness = {weighted_skew}'), alpha=0)\n",
        "ax.plot([],[], label = str(f'Weighted Standard Deviation = {weighted_std}'), alpha=0)\n",
        "ax.plot([],[], label = str(f'Weighted Average = {weighted_average}'), alpha=0)\n",
        "\n",
        "ax.set(title = 'Adm2 Downscaled Soybean Yield - HP Trend Yield (Acreage_Weighted)',\n",
        "       xlabel = 'Deviation', ylabel = 'Count number')\n",
        "plt.show()\n",
        "\n",
        "print('The kurtosis of the normal distribution for the yield deviation is: {}'.\n",
        "      format(weighted_kurt))\n",
        "\n",
        "print('The skewness of the normal distribution for the yield deviation is: {}'.\n",
        "      format(weighted_skew))\n",
        "\n",
        "print('The standard deviation for the yield deviation is: {}'.\n",
        "      format(weighted_std))\n",
        "\n",
        "print('The mean for the yield deviation is: {}'.\n",
        "      format(weighted_average))"
      ]
    },
    {
      "cell_type": "markdown",
      "id": "cca9dbae",
      "metadata": {
        "ExecuteTime": {
          "end_time": "2022-11-10T16:26:22.675083Z",
          "start_time": "2022-11-10T16:26:22.052929Z"
        },
        "id": "cca9dbae"
      },
      "source": [
        "## Yield Variance for each year"
      ]
    },
    {
      "cell_type": "markdown",
      "id": "7c83725a",
      "metadata": {
        "id": "7c83725a"
      },
      "source": [
        "The overall idea is to assess the trend for variance during each year. In order to determine variance, difference between each individual value and the mean needs to be determined. Variance is the average of squares of those differences."
      ]
    },
    {
      "cell_type": "code",
      "execution_count": null,
      "id": "26631cda",
      "metadata": {
        "ExecuteTime": {
          "end_time": "2022-11-14T15:41:16.622199Z",
          "start_time": "2022-11-14T15:41:16.622175Z"
        },
        "id": "26631cda"
      },
      "outputs": [],
      "source": [
        "df_variance = hp_trend.copy()\n",
        "df_variance['mean_yield'] = df_variance.groupby('year')['downscaled_yield'].transform('mean')\n",
        "df_variance['dev_from_yield'] = df_variance['downscaled_yield'] - df_variance['mean_yield']\n",
        "df_variance['dev_from_yield_sq'] = df_variance['dev_from_yield']**2\n",
        "df_national_var = df_variance.groupby('year')['dev_from_yield_sq'].mean().reset_index()\n",
        "# df_national_var.tail()"
      ]
    },
    {
      "cell_type": "markdown",
      "id": "564b8a2a",
      "metadata": {
        "ExecuteTime": {
          "end_time": "2022-11-01T20:56:39.775325Z",
          "start_time": "2022-11-01T20:56:39.769598Z"
        },
        "id": "564b8a2a"
      },
      "source": [
        "Determining the trend in national variance from 2001 - 2021."
      ]
    },
    {
      "cell_type": "code",
      "execution_count": null,
      "id": "3368147c",
      "metadata": {
        "ExecuteTime": {
          "end_time": "2022-11-14T15:41:16.624559Z",
          "start_time": "2022-11-14T15:41:16.624534Z"
        },
        "id": "3368147c"
      },
      "outputs": [],
      "source": [
        "w = np.polyfit(df_national_var['year'],df_national_var['dev_from_yield_sq'],1)\n",
        "s = np.poly1d(w)"
      ]
    },
    {
      "cell_type": "code",
      "execution_count": null,
      "id": "05b6eed4",
      "metadata": {
        "ExecuteTime": {
          "end_time": "2022-11-14T15:41:16.626615Z",
          "start_time": "2022-11-14T15:41:16.626591Z"
        },
        "id": "05b6eed4",
        "outputId": "750a2dfb-cba1-46d7-c735-6eb2410fef26"
      },
      "outputs": [
        {
          "data": {
            "image/png": "[encoded data removed]",
            "text/plain": [
              "<Figure size 900x600 with 1 Axes>"
            ]
          },
          "metadata": {},
          "output_type": "display_data"
        }
      ],
      "source": [
        "fig, ax = plt.subplots(figsize = (9, 6))\n",
        "\n",
        "plt.plot('year', 'dev_from_yield_sq', data = df_national_var, marker = 'o',\n",
        "         linestyle = 'solid', label = 'Yield variance in adm2 downscaled yield', color = 'C1')\n",
        "\n",
        "plt.plot(df_national_var['year'], s(df_national_var['year']),\n",
        "         linestyle = '--', label = 'National Grids Yield', color = 'C4')\n",
        "\n",
        "ax.set(title = \"Variance of National Yield for Soybean in Brazil through 2001 - 2021\",\n",
        "       xlim = [2000, 2023], ylim = [0, 1],\n",
        "       xlabel = 'Harvested Year', ylabel = 'Yield (mt/ha)')\n",
        "plt.grid()\n",
        "plt.legend()\n",
        "plt.show()"
      ]
    },
    {
      "cell_type": "markdown",
      "id": "379111b3",
      "metadata": {
        "id": "379111b3"
      },
      "source": [
        "## Statistics of yield deviation at adm2 level"
      ]
    },
    {
      "cell_type": "code",
      "execution_count": null,
      "id": "e9bdb8f2",
      "metadata": {
        "ExecuteTime": {
          "end_time": "2022-11-14T15:41:16.628665Z",
          "start_time": "2022-11-14T15:41:16.628641Z"
        },
        "id": "e9bdb8f2"
      },
      "outputs": [],
      "source": [
        "#Determining std deviation, kurtosis, and skewness for all counties from 21 years of datasets.\n",
        "#Mapping these parameters on the map."
      ]
    },
    {
      "cell_type": "code",
      "execution_count": null,
      "id": "aa3ea95a",
      "metadata": {
        "id": "aa3ea95a"
      },
      "outputs": [],
      "source": []
    },
    {
      "cell_type": "code",
      "execution_count": null,
      "id": "d29bb88d",
      "metadata": {
        "id": "d29bb88d"
      },
      "outputs": [],
      "source": []
    }
  ],
  "metadata": {
    "kernelspec": {
      "display_name": "Python 3 (ipykernel)",
      "language": "python",
      "name": "python3"
    },
    "language_info": {
      "codemirror_mode": {
        "name": "ipython",
        "version": 3
      },
      "file_extension": ".py",
      "mimetype": "text/x-python",
      "name": "python",
      "nbconvert_exporter": "python",
      "pygments_lexer": "ipython3",
      "version": "3.11.5"
    },
    "toc": {
      "base_numbering": 1,
      "nav_menu": {},
      "number_sections": true,
      "sideBar": true,
      "skip_h1_title": false,
      "title_cell": "Table of Contents",
      "title_sidebar": "Contents",
      "toc_cell": false,
      "toc_position": {
        "height": "397.333px",
        "left": "176px",
        "top": "111.125px",
        "width": "333.991px"
      },
      "toc_section_display": true,
      "toc_window_display": true
    },
    "colab": {
      "provenance": []
    }
  },
  "nbformat": 4,
  "nbformat_minor": 5
}